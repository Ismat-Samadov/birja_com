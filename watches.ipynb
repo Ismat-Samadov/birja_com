{
 "cells": [
  {
   "cell_type": "code",
   "execution_count": 1,
   "id": "b931cc80-64e2-4435-8c9d-f56916296c96",
   "metadata": {},
   "outputs": [],
   "source": [
    "import matplotlib.pyplot as plt\n",
    "import pandas as pd\n",
    "import numpy as np\n",
    "import seaborn as sns\n",
    "# importing libraries for data cleaning and EDA\n",
    "from sklearn.preprocessing import LabelEncoder\n",
    "from IPython.core.interactiveshell import InteractiveShell\n",
    "InteractiveShell.ast_node_interactivity = \"all\""
   ]
  },
  {
   "cell_type": "code",
   "execution_count": 2,
   "id": "6cb53f3a-f3a7-4e8f-b6b4-51d000f8fe48",
   "metadata": {},
   "outputs": [],
   "source": [
    "loc=r'C:\\Users\\Ismat\\OneDrive\\Рабочий стол\\document\\etc\\kurslar\\lesson_course\\data\\watches.csv'"
   ]
  },
  {
   "cell_type": "code",
   "execution_count": 3,
   "id": "250dce0c-0852-4bf3-ab05-f0886445da4e",
   "metadata": {},
   "outputs": [],
   "source": [
    "data=pd.read_csv(loc)"
   ]
  },
  {
   "cell_type": "code",
   "execution_count": 4,
   "id": "2a7704c6-2d9b-49f1-9e8c-ebaea24f0e3e",
   "metadata": {},
   "outputs": [
    {
     "data": {
      "text/html": [
       "<div>\n",
       "<style scoped>\n",
       "    .dataframe tbody tr th:only-of-type {\n",
       "        vertical-align: middle;\n",
       "    }\n",
       "\n",
       "    .dataframe tbody tr th {\n",
       "        vertical-align: top;\n",
       "    }\n",
       "\n",
       "    .dataframe thead th {\n",
       "        text-align: right;\n",
       "    }\n",
       "</style>\n",
       "<table border=\"1\" class=\"dataframe\">\n",
       "  <thead>\n",
       "    <tr style=\"text-align: right;\">\n",
       "      <th></th>\n",
       "      <th>Unnamed: 0</th>\n",
       "      <th>Name</th>\n",
       "      <th>Details</th>\n",
       "      <th>New price</th>\n",
       "      <th>Discount</th>\n",
       "    </tr>\n",
       "  </thead>\n",
       "  <tbody>\n",
       "    <tr>\n",
       "      <th>0</th>\n",
       "      <td>0</td>\n",
       "      <td>fastrack wearables</td>\n",
       "      <td>unisex reflex curv pink strap silicone digital...</td>\n",
       "      <td>4495</td>\n",
       "      <td>31</td>\n",
       "    </tr>\n",
       "    <tr>\n",
       "      <th>1</th>\n",
       "      <td>1</td>\n",
       "      <td>fastrack wearables</td>\n",
       "      <td>unisex 40 mm reflex slay charcoal black dial s...</td>\n",
       "      <td>3995</td>\n",
       "      <td>33</td>\n",
       "    </tr>\n",
       "    <tr>\n",
       "      <th>2</th>\n",
       "      <td>2</td>\n",
       "      <td>titan</td>\n",
       "      <td>mens 52.50 x 11.70 x 44 mm octane black dial l...</td>\n",
       "      <td>3997</td>\n",
       "      <td>50</td>\n",
       "    </tr>\n",
       "    <tr>\n",
       "      <th>3</th>\n",
       "      <td>3</td>\n",
       "      <td>timex</td>\n",
       "      <td>men fashion green multifunction strap wrist watch</td>\n",
       "      <td>3596</td>\n",
       "      <td>20</td>\n",
       "    </tr>\n",
       "    <tr>\n",
       "      <th>4</th>\n",
       "      <td>4</td>\n",
       "      <td>police</td>\n",
       "      <td>mens grey leather multi-function watch  - pl15...</td>\n",
       "      <td>7977</td>\n",
       "      <td>40</td>\n",
       "    </tr>\n",
       "    <tr>\n",
       "      <th>...</th>\n",
       "      <td>...</td>\n",
       "      <td>...</td>\n",
       "      <td>...</td>\n",
       "      <td>...</td>\n",
       "      <td>...</td>\n",
       "    </tr>\n",
       "    <tr>\n",
       "      <th>3970</th>\n",
       "      <td>3970</td>\n",
       "      <td>timex</td>\n",
       "      <td>unisex 44x37 mm fit 2.0 square calling black d...</td>\n",
       "      <td>4796</td>\n",
       "      <td>20</td>\n",
       "    </tr>\n",
       "    <tr>\n",
       "      <th>3971</th>\n",
       "      <td>3971</td>\n",
       "      <td>guess</td>\n",
       "      <td>mens 43 mm phoenix black dial silicone analog ...</td>\n",
       "      <td>10400</td>\n",
       "      <td>0</td>\n",
       "    </tr>\n",
       "    <tr>\n",
       "      <th>3972</th>\n",
       "      <td>3972</td>\n",
       "      <td>police</td>\n",
       "      <td>mens 47 mm ceramics green dial leather watch -...</td>\n",
       "      <td>10846</td>\n",
       "      <td>30</td>\n",
       "    </tr>\n",
       "    <tr>\n",
       "      <th>3973</th>\n",
       "      <td>3973</td>\n",
       "      <td>fossil</td>\n",
       "      <td>mens 44 mm autocross blue dial stainless steel...</td>\n",
       "      <td>8495</td>\n",
       "      <td>0</td>\n",
       "    </tr>\n",
       "    <tr>\n",
       "      <th>3974</th>\n",
       "      <td>3974</td>\n",
       "      <td>fastrack wearables</td>\n",
       "      <td>unisex 18.5 x 45.4 x 11 mm reflex 3.0 black di...</td>\n",
       "      <td>1795</td>\n",
       "      <td>40</td>\n",
       "    </tr>\n",
       "  </tbody>\n",
       "</table>\n",
       "<p>3975 rows × 5 columns</p>\n",
       "</div>"
      ],
      "text/plain": [
       "      Unnamed: 0                Name  \\\n",
       "0              0  fastrack wearables   \n",
       "1              1  fastrack wearables   \n",
       "2              2               titan   \n",
       "3              3               timex   \n",
       "4              4              police   \n",
       "...          ...                 ...   \n",
       "3970        3970               timex   \n",
       "3971        3971               guess   \n",
       "3972        3972              police   \n",
       "3973        3973              fossil   \n",
       "3974        3974  fastrack wearables   \n",
       "\n",
       "                                                Details  New price  Discount  \n",
       "0     unisex reflex curv pink strap silicone digital...       4495        31  \n",
       "1     unisex 40 mm reflex slay charcoal black dial s...       3995        33  \n",
       "2     mens 52.50 x 11.70 x 44 mm octane black dial l...       3997        50  \n",
       "3     men fashion green multifunction strap wrist watch       3596        20  \n",
       "4     mens grey leather multi-function watch  - pl15...       7977        40  \n",
       "...                                                 ...        ...       ...  \n",
       "3970  unisex 44x37 mm fit 2.0 square calling black d...       4796        20  \n",
       "3971  mens 43 mm phoenix black dial silicone analog ...      10400         0  \n",
       "3972  mens 47 mm ceramics green dial leather watch -...      10846        30  \n",
       "3973  mens 44 mm autocross blue dial stainless steel...       8495         0  \n",
       "3974  unisex 18.5 x 45.4 x 11 mm reflex 3.0 black di...       1795        40  \n",
       "\n",
       "[3975 rows x 5 columns]"
      ]
     },
     "execution_count": 4,
     "metadata": {},
     "output_type": "execute_result"
    }
   ],
   "source": [
    "data"
   ]
  },
  {
   "cell_type": "code",
   "execution_count": 5,
   "id": "e2dd24fb-a5db-499e-a9fd-335d9b7abe01",
   "metadata": {},
   "outputs": [
    {
     "data": {
      "text/plain": [
       "25"
      ]
     },
     "execution_count": 5,
     "metadata": {},
     "output_type": "execute_result"
    }
   ],
   "source": [
    "d=data['Details'].unique()\n",
    "len(d)"
   ]
  },
  {
   "cell_type": "code",
   "execution_count": 6,
   "id": "fe129507-5725-4572-add6-639ee47e5601",
   "metadata": {},
   "outputs": [
    {
     "data": {
      "text/plain": [
       "Unnamed: 0    0\n",
       "Name          0\n",
       "Details       0\n",
       "New price     0\n",
       "Discount      0\n",
       "dtype: int64"
      ]
     },
     "execution_count": 6,
     "metadata": {},
     "output_type": "execute_result"
    }
   ],
   "source": [
    "data.isna().sum()"
   ]
  },
  {
   "cell_type": "code",
   "execution_count": 33,
   "id": "61cfbb8c-db20-4bbf-84eb-94d74acdbe9f",
   "metadata": {},
   "outputs": [
    {
     "data": {
      "text/plain": [
       "0"
      ]
     },
     "execution_count": 33,
     "metadata": {},
     "output_type": "execute_result"
    }
   ],
   "source": [
    "data.duplicated().sum()"
   ]
  },
  {
   "cell_type": "code",
   "execution_count": 7,
   "id": "fbbf7066-3f8f-4f92-9270-6b9e023035c2",
   "metadata": {},
   "outputs": [
    {
     "data": {
      "text/plain": [
       "(3975, 5)"
      ]
     },
     "execution_count": 7,
     "metadata": {},
     "output_type": "execute_result"
    }
   ],
   "source": [
    "data.shape"
   ]
  },
  {
   "cell_type": "code",
   "execution_count": 8,
   "id": "55f73c33-3723-4862-847e-03140d275983",
   "metadata": {},
   "outputs": [
    {
     "name": "stdout",
     "output_type": "stream",
     "text": [
      "<class 'pandas.core.frame.DataFrame'>\n",
      "RangeIndex: 3975 entries, 0 to 3974\n",
      "Data columns (total 5 columns):\n",
      " #   Column      Non-Null Count  Dtype \n",
      "---  ------      --------------  ----- \n",
      " 0   Unnamed: 0  3975 non-null   int64 \n",
      " 1   Name        3975 non-null   object\n",
      " 2   Details     3975 non-null   object\n",
      " 3   New price   3975 non-null   int64 \n",
      " 4   Discount    3975 non-null   int64 \n",
      "dtypes: int64(3), object(2)\n",
      "memory usage: 155.4+ KB\n"
     ]
    }
   ],
   "source": [
    "data.info()"
   ]
  },
  {
   "cell_type": "code",
   "execution_count": 9,
   "id": "7b0d14ac-df1b-4134-889a-7057c9dec2c3",
   "metadata": {},
   "outputs": [
    {
     "data": {
      "text/html": [
       "<div>\n",
       "<style scoped>\n",
       "    .dataframe tbody tr th:only-of-type {\n",
       "        vertical-align: middle;\n",
       "    }\n",
       "\n",
       "    .dataframe tbody tr th {\n",
       "        vertical-align: top;\n",
       "    }\n",
       "\n",
       "    .dataframe thead th {\n",
       "        text-align: right;\n",
       "    }\n",
       "</style>\n",
       "<table border=\"1\" class=\"dataframe\">\n",
       "  <thead>\n",
       "    <tr style=\"text-align: right;\">\n",
       "      <th></th>\n",
       "      <th>Unnamed: 0</th>\n",
       "      <th>New price</th>\n",
       "      <th>Discount</th>\n",
       "    </tr>\n",
       "  </thead>\n",
       "  <tbody>\n",
       "    <tr>\n",
       "      <th>count</th>\n",
       "      <td>3975.000000</td>\n",
       "      <td>3975.000000</td>\n",
       "      <td>3975.000000</td>\n",
       "    </tr>\n",
       "    <tr>\n",
       "      <th>mean</th>\n",
       "      <td>1987.000000</td>\n",
       "      <td>7832.440000</td>\n",
       "      <td>25.120000</td>\n",
       "    </tr>\n",
       "    <tr>\n",
       "      <th>std</th>\n",
       "      <td>1147.627989</td>\n",
       "      <td>3152.416544</td>\n",
       "      <td>14.888968</td>\n",
       "    </tr>\n",
       "    <tr>\n",
       "      <th>min</th>\n",
       "      <td>0.000000</td>\n",
       "      <td>1795.000000</td>\n",
       "      <td>0.000000</td>\n",
       "    </tr>\n",
       "    <tr>\n",
       "      <th>25%</th>\n",
       "      <td>993.500000</td>\n",
       "      <td>4796.000000</td>\n",
       "      <td>20.000000</td>\n",
       "    </tr>\n",
       "    <tr>\n",
       "      <th>50%</th>\n",
       "      <td>1987.000000</td>\n",
       "      <td>7996.000000</td>\n",
       "      <td>30.000000</td>\n",
       "    </tr>\n",
       "    <tr>\n",
       "      <th>75%</th>\n",
       "      <td>2980.500000</td>\n",
       "      <td>10146.000000</td>\n",
       "      <td>31.000000</td>\n",
       "    </tr>\n",
       "    <tr>\n",
       "      <th>max</th>\n",
       "      <td>3974.000000</td>\n",
       "      <td>13995.000000</td>\n",
       "      <td>50.000000</td>\n",
       "    </tr>\n",
       "  </tbody>\n",
       "</table>\n",
       "</div>"
      ],
      "text/plain": [
       "        Unnamed: 0     New price     Discount\n",
       "count  3975.000000   3975.000000  3975.000000\n",
       "mean   1987.000000   7832.440000    25.120000\n",
       "std    1147.627989   3152.416544    14.888968\n",
       "min       0.000000   1795.000000     0.000000\n",
       "25%     993.500000   4796.000000    20.000000\n",
       "50%    1987.000000   7996.000000    30.000000\n",
       "75%    2980.500000  10146.000000    31.000000\n",
       "max    3974.000000  13995.000000    50.000000"
      ]
     },
     "execution_count": 9,
     "metadata": {},
     "output_type": "execute_result"
    }
   ],
   "source": [
    "data.describe()"
   ]
  },
  {
   "cell_type": "code",
   "execution_count": 10,
   "id": "19ba6991-3132-4bcc-9b23-15cd58d0c568",
   "metadata": {},
   "outputs": [
    {
     "data": {
      "text/plain": [
       "3975"
      ]
     },
     "execution_count": 10,
     "metadata": {},
     "output_type": "execute_result"
    }
   ],
   "source": [
    "len(data)"
   ]
  },
  {
   "cell_type": "code",
   "execution_count": 11,
   "id": "38597079-3026-46cd-a440-2ad7c600643a",
   "metadata": {},
   "outputs": [
    {
     "data": {
      "text/html": [
       "<div>\n",
       "<style scoped>\n",
       "    .dataframe tbody tr th:only-of-type {\n",
       "        vertical-align: middle;\n",
       "    }\n",
       "\n",
       "    .dataframe tbody tr th {\n",
       "        vertical-align: top;\n",
       "    }\n",
       "\n",
       "    .dataframe thead th {\n",
       "        text-align: right;\n",
       "    }\n",
       "</style>\n",
       "<table border=\"1\" class=\"dataframe\">\n",
       "  <thead>\n",
       "    <tr style=\"text-align: right;\">\n",
       "      <th></th>\n",
       "      <th>Unnamed: 0</th>\n",
       "      <th>Name</th>\n",
       "      <th>Details</th>\n",
       "      <th>New price</th>\n",
       "      <th>Discount</th>\n",
       "    </tr>\n",
       "  </thead>\n",
       "  <tbody>\n",
       "    <tr>\n",
       "      <th>0</th>\n",
       "      <td>0</td>\n",
       "      <td>fastrack wearables</td>\n",
       "      <td>unisex reflex curv pink strap silicone digital...</td>\n",
       "      <td>4495</td>\n",
       "      <td>31</td>\n",
       "    </tr>\n",
       "    <tr>\n",
       "      <th>1</th>\n",
       "      <td>1</td>\n",
       "      <td>fastrack wearables</td>\n",
       "      <td>unisex 40 mm reflex slay charcoal black dial s...</td>\n",
       "      <td>3995</td>\n",
       "      <td>33</td>\n",
       "    </tr>\n",
       "    <tr>\n",
       "      <th>2</th>\n",
       "      <td>2</td>\n",
       "      <td>titan</td>\n",
       "      <td>mens 52.50 x 11.70 x 44 mm octane black dial l...</td>\n",
       "      <td>3997</td>\n",
       "      <td>50</td>\n",
       "    </tr>\n",
       "    <tr>\n",
       "      <th>3</th>\n",
       "      <td>3</td>\n",
       "      <td>timex</td>\n",
       "      <td>men fashion green multifunction strap wrist watch</td>\n",
       "      <td>3596</td>\n",
       "      <td>20</td>\n",
       "    </tr>\n",
       "    <tr>\n",
       "      <th>4</th>\n",
       "      <td>4</td>\n",
       "      <td>police</td>\n",
       "      <td>mens grey leather multi-function watch  - pl15...</td>\n",
       "      <td>7977</td>\n",
       "      <td>40</td>\n",
       "    </tr>\n",
       "  </tbody>\n",
       "</table>\n",
       "</div>"
      ],
      "text/plain": [
       "   Unnamed: 0                Name  \\\n",
       "0           0  fastrack wearables   \n",
       "1           1  fastrack wearables   \n",
       "2           2               titan   \n",
       "3           3               timex   \n",
       "4           4              police   \n",
       "\n",
       "                                             Details  New price  Discount  \n",
       "0  unisex reflex curv pink strap silicone digital...       4495        31  \n",
       "1  unisex 40 mm reflex slay charcoal black dial s...       3995        33  \n",
       "2  mens 52.50 x 11.70 x 44 mm octane black dial l...       3997        50  \n",
       "3  men fashion green multifunction strap wrist watch       3596        20  \n",
       "4  mens grey leather multi-function watch  - pl15...       7977        40  "
      ]
     },
     "execution_count": 11,
     "metadata": {},
     "output_type": "execute_result"
    }
   ],
   "source": [
    "data.head()\n"
   ]
  },
  {
   "cell_type": "code",
   "execution_count": 12,
   "id": "1bdf59be-233f-457e-8b56-d8b025ae727d",
   "metadata": {},
   "outputs": [
    {
     "data": {
      "text/html": [
       "<div>\n",
       "<style scoped>\n",
       "    .dataframe tbody tr th:only-of-type {\n",
       "        vertical-align: middle;\n",
       "    }\n",
       "\n",
       "    .dataframe tbody tr th {\n",
       "        vertical-align: top;\n",
       "    }\n",
       "\n",
       "    .dataframe thead th {\n",
       "        text-align: right;\n",
       "    }\n",
       "</style>\n",
       "<table border=\"1\" class=\"dataframe\">\n",
       "  <thead>\n",
       "    <tr style=\"text-align: right;\">\n",
       "      <th></th>\n",
       "      <th>Unnamed: 0</th>\n",
       "      <th>Name</th>\n",
       "      <th>Details</th>\n",
       "      <th>New price</th>\n",
       "      <th>Discount</th>\n",
       "    </tr>\n",
       "  </thead>\n",
       "  <tbody>\n",
       "    <tr>\n",
       "      <th>3970</th>\n",
       "      <td>3970</td>\n",
       "      <td>timex</td>\n",
       "      <td>unisex 44x37 mm fit 2.0 square calling black d...</td>\n",
       "      <td>4796</td>\n",
       "      <td>20</td>\n",
       "    </tr>\n",
       "    <tr>\n",
       "      <th>3971</th>\n",
       "      <td>3971</td>\n",
       "      <td>guess</td>\n",
       "      <td>mens 43 mm phoenix black dial silicone analog ...</td>\n",
       "      <td>10400</td>\n",
       "      <td>0</td>\n",
       "    </tr>\n",
       "    <tr>\n",
       "      <th>3972</th>\n",
       "      <td>3972</td>\n",
       "      <td>police</td>\n",
       "      <td>mens 47 mm ceramics green dial leather watch -...</td>\n",
       "      <td>10846</td>\n",
       "      <td>30</td>\n",
       "    </tr>\n",
       "    <tr>\n",
       "      <th>3973</th>\n",
       "      <td>3973</td>\n",
       "      <td>fossil</td>\n",
       "      <td>mens 44 mm autocross blue dial stainless steel...</td>\n",
       "      <td>8495</td>\n",
       "      <td>0</td>\n",
       "    </tr>\n",
       "    <tr>\n",
       "      <th>3974</th>\n",
       "      <td>3974</td>\n",
       "      <td>fastrack wearables</td>\n",
       "      <td>unisex 18.5 x 45.4 x 11 mm reflex 3.0 black di...</td>\n",
       "      <td>1795</td>\n",
       "      <td>40</td>\n",
       "    </tr>\n",
       "  </tbody>\n",
       "</table>\n",
       "</div>"
      ],
      "text/plain": [
       "      Unnamed: 0                Name  \\\n",
       "3970        3970               timex   \n",
       "3971        3971               guess   \n",
       "3972        3972              police   \n",
       "3973        3973              fossil   \n",
       "3974        3974  fastrack wearables   \n",
       "\n",
       "                                                Details  New price  Discount  \n",
       "3970  unisex 44x37 mm fit 2.0 square calling black d...       4796        20  \n",
       "3971  mens 43 mm phoenix black dial silicone analog ...      10400         0  \n",
       "3972  mens 47 mm ceramics green dial leather watch -...      10846        30  \n",
       "3973  mens 44 mm autocross blue dial stainless steel...       8495         0  \n",
       "3974  unisex 18.5 x 45.4 x 11 mm reflex 3.0 black di...       1795        40  "
      ]
     },
     "execution_count": 12,
     "metadata": {},
     "output_type": "execute_result"
    }
   ],
   "source": [
    "data.tail()\n"
   ]
  },
  {
   "cell_type": "code",
   "execution_count": 13,
   "id": "4f359a0b-8dcc-4a67-b8cf-aad22efbc671",
   "metadata": {},
   "outputs": [
    {
     "data": {
      "text/html": [
       "<div>\n",
       "<style scoped>\n",
       "    .dataframe tbody tr th:only-of-type {\n",
       "        vertical-align: middle;\n",
       "    }\n",
       "\n",
       "    .dataframe tbody tr th {\n",
       "        vertical-align: top;\n",
       "    }\n",
       "\n",
       "    .dataframe thead th {\n",
       "        text-align: right;\n",
       "    }\n",
       "</style>\n",
       "<table border=\"1\" class=\"dataframe\">\n",
       "  <thead>\n",
       "    <tr style=\"text-align: right;\">\n",
       "      <th></th>\n",
       "      <th>Unnamed: 0</th>\n",
       "      <th>Name</th>\n",
       "      <th>Details</th>\n",
       "      <th>New price</th>\n",
       "      <th>Discount</th>\n",
       "    </tr>\n",
       "  </thead>\n",
       "  <tbody>\n",
       "    <tr>\n",
       "      <th>2206</th>\n",
       "      <td>2206</td>\n",
       "      <td>titan</td>\n",
       "      <td>mens 52.50 x 11.70 x 44 mm octane anthracite d...</td>\n",
       "      <td>3997</td>\n",
       "      <td>50</td>\n",
       "    </tr>\n",
       "    <tr>\n",
       "      <th>1467</th>\n",
       "      <td>1467</td>\n",
       "      <td>fossil</td>\n",
       "      <td>mens garrett black dial chronograph watch - wf...</td>\n",
       "      <td>7996</td>\n",
       "      <td>20</td>\n",
       "    </tr>\n",
       "    <tr>\n",
       "      <th>2440</th>\n",
       "      <td>2440</td>\n",
       "      <td>titan</td>\n",
       "      <td>mens 49.2 x 42 mm neo splash blue dial stainle...</td>\n",
       "      <td>6995</td>\n",
       "      <td>0</td>\n",
       "    </tr>\n",
       "    <tr>\n",
       "      <th>2218</th>\n",
       "      <td>2218</td>\n",
       "      <td>diesel</td>\n",
       "      <td>mens 46 mm griffed silver dial pu chronograph ...</td>\n",
       "      <td>9597</td>\n",
       "      <td>40</td>\n",
       "    </tr>\n",
       "    <tr>\n",
       "      <th>1910</th>\n",
       "      <td>1910</td>\n",
       "      <td>armani exchange</td>\n",
       "      <td>mens chronograph leather watch - ax2098</td>\n",
       "      <td>13995</td>\n",
       "      <td>0</td>\n",
       "    </tr>\n",
       "    <tr>\n",
       "      <th>1520</th>\n",
       "      <td>1520</td>\n",
       "      <td>timex</td>\n",
       "      <td>unisex 44x37 mm fit 2.0 square calling black d...</td>\n",
       "      <td>4796</td>\n",
       "      <td>20</td>\n",
       "    </tr>\n",
       "    <tr>\n",
       "      <th>3152</th>\n",
       "      <td>3152</td>\n",
       "      <td>titan</td>\n",
       "      <td>mens 52.50 x 11.70 x 44 mm octane black dial l...</td>\n",
       "      <td>3997</td>\n",
       "      <td>50</td>\n",
       "    </tr>\n",
       "    <tr>\n",
       "      <th>3013</th>\n",
       "      <td>3013</td>\n",
       "      <td>tommy hilfiger</td>\n",
       "      <td>mens 40.5 mm james black dial zinc alloy watch...</td>\n",
       "      <td>7696</td>\n",
       "      <td>30</td>\n",
       "    </tr>\n",
       "    <tr>\n",
       "      <th>1919</th>\n",
       "      <td>1919</td>\n",
       "      <td>tommy hilfiger</td>\n",
       "      <td>mens 44 mm evan black dial zinc alloy watch - ...</td>\n",
       "      <td>10146</td>\n",
       "      <td>30</td>\n",
       "    </tr>\n",
       "    <tr>\n",
       "      <th>2931</th>\n",
       "      <td>2931</td>\n",
       "      <td>titan</td>\n",
       "      <td>mens 52.50 x 11.70 x 44 mm octane anthracite d...</td>\n",
       "      <td>3997</td>\n",
       "      <td>50</td>\n",
       "    </tr>\n",
       "  </tbody>\n",
       "</table>\n",
       "</div>"
      ],
      "text/plain": [
       "      Unnamed: 0             Name  \\\n",
       "2206        2206            titan   \n",
       "1467        1467           fossil   \n",
       "2440        2440            titan   \n",
       "2218        2218           diesel   \n",
       "1910        1910  armani exchange   \n",
       "1520        1520            timex   \n",
       "3152        3152            titan   \n",
       "3013        3013   tommy hilfiger   \n",
       "1919        1919   tommy hilfiger   \n",
       "2931        2931            titan   \n",
       "\n",
       "                                                Details  New price  Discount  \n",
       "2206  mens 52.50 x 11.70 x 44 mm octane anthracite d...       3997        50  \n",
       "1467  mens garrett black dial chronograph watch - wf...       7996        20  \n",
       "2440  mens 49.2 x 42 mm neo splash blue dial stainle...       6995         0  \n",
       "2218  mens 46 mm griffed silver dial pu chronograph ...       9597        40  \n",
       "1910            mens chronograph leather watch - ax2098      13995         0  \n",
       "1520  unisex 44x37 mm fit 2.0 square calling black d...       4796        20  \n",
       "3152  mens 52.50 x 11.70 x 44 mm octane black dial l...       3997        50  \n",
       "3013  mens 40.5 mm james black dial zinc alloy watch...       7696        30  \n",
       "1919  mens 44 mm evan black dial zinc alloy watch - ...      10146        30  \n",
       "2931  mens 52.50 x 11.70 x 44 mm octane anthracite d...       3997        50  "
      ]
     },
     "execution_count": 13,
     "metadata": {},
     "output_type": "execute_result"
    }
   ],
   "source": [
    "data.sample(10)"
   ]
  },
  {
   "cell_type": "code",
   "execution_count": 14,
   "id": "99c6496a-e54e-4f35-b408-dabe97bc6271",
   "metadata": {},
   "outputs": [
    {
     "data": {
      "text/html": [
       "<div>\n",
       "<style scoped>\n",
       "    .dataframe tbody tr th:only-of-type {\n",
       "        vertical-align: middle;\n",
       "    }\n",
       "\n",
       "    .dataframe tbody tr th {\n",
       "        vertical-align: top;\n",
       "    }\n",
       "\n",
       "    .dataframe thead th {\n",
       "        text-align: right;\n",
       "    }\n",
       "</style>\n",
       "<table border=\"1\" class=\"dataframe\">\n",
       "  <thead>\n",
       "    <tr style=\"text-align: right;\">\n",
       "      <th></th>\n",
       "      <th>Unnamed: 0</th>\n",
       "      <th>Details</th>\n",
       "      <th>New price</th>\n",
       "      <th>Discount</th>\n",
       "    </tr>\n",
       "    <tr>\n",
       "      <th>Name</th>\n",
       "      <th></th>\n",
       "      <th></th>\n",
       "      <th></th>\n",
       "      <th></th>\n",
       "    </tr>\n",
       "  </thead>\n",
       "  <tbody>\n",
       "    <tr>\n",
       "      <th>tommy hilfiger</th>\n",
       "      <td>954</td>\n",
       "      <td>954</td>\n",
       "      <td>954</td>\n",
       "      <td>954</td>\n",
       "    </tr>\n",
       "    <tr>\n",
       "      <th>fastrack wearables</th>\n",
       "      <td>636</td>\n",
       "      <td>636</td>\n",
       "      <td>636</td>\n",
       "      <td>636</td>\n",
       "    </tr>\n",
       "    <tr>\n",
       "      <th>titan</th>\n",
       "      <td>636</td>\n",
       "      <td>636</td>\n",
       "      <td>636</td>\n",
       "      <td>636</td>\n",
       "    </tr>\n",
       "    <tr>\n",
       "      <th>fossil</th>\n",
       "      <td>477</td>\n",
       "      <td>477</td>\n",
       "      <td>477</td>\n",
       "      <td>477</td>\n",
       "    </tr>\n",
       "    <tr>\n",
       "      <th>guess</th>\n",
       "      <td>318</td>\n",
       "      <td>318</td>\n",
       "      <td>318</td>\n",
       "      <td>318</td>\n",
       "    </tr>\n",
       "    <tr>\n",
       "      <th>police</th>\n",
       "      <td>318</td>\n",
       "      <td>318</td>\n",
       "      <td>318</td>\n",
       "      <td>318</td>\n",
       "    </tr>\n",
       "    <tr>\n",
       "      <th>timex</th>\n",
       "      <td>318</td>\n",
       "      <td>318</td>\n",
       "      <td>318</td>\n",
       "      <td>318</td>\n",
       "    </tr>\n",
       "    <tr>\n",
       "      <th>armani exchange</th>\n",
       "      <td>159</td>\n",
       "      <td>159</td>\n",
       "      <td>159</td>\n",
       "      <td>159</td>\n",
       "    </tr>\n",
       "    <tr>\n",
       "      <th>diesel</th>\n",
       "      <td>159</td>\n",
       "      <td>159</td>\n",
       "      <td>159</td>\n",
       "      <td>159</td>\n",
       "    </tr>\n",
       "  </tbody>\n",
       "</table>\n",
       "</div>"
      ],
      "text/plain": [
       "                    Unnamed: 0  Details  New price  Discount\n",
       "Name                                                        \n",
       "tommy hilfiger             954      954        954       954\n",
       "fastrack wearables         636      636        636       636\n",
       "titan                      636      636        636       636\n",
       "fossil                     477      477        477       477\n",
       "guess                      318      318        318       318\n",
       "police                     318      318        318       318\n",
       "timex                      318      318        318       318\n",
       "armani exchange            159      159        159       159\n",
       "diesel                     159      159        159       159"
      ]
     },
     "execution_count": 14,
     "metadata": {},
     "output_type": "execute_result"
    }
   ],
   "source": [
    "data.groupby(['Name']).count().sort_values(by='Details',ascending=False)"
   ]
  },
  {
   "cell_type": "code",
   "execution_count": 15,
   "id": "dca6e98b-7e45-49ed-ab53-46657f579e5e",
   "metadata": {},
   "outputs": [
    {
     "data": {
      "text/plain": [
       "1795"
      ]
     },
     "execution_count": 15,
     "metadata": {},
     "output_type": "execute_result"
    }
   ],
   "source": [
    "data['New price'].min()"
   ]
  },
  {
   "cell_type": "code",
   "execution_count": 16,
   "id": "e64cf53f-fa74-4018-863d-5c7a381bc883",
   "metadata": {},
   "outputs": [
    {
     "data": {
      "text/plain": [
       "13995"
      ]
     },
     "execution_count": 16,
     "metadata": {},
     "output_type": "execute_result"
    }
   ],
   "source": [
    "data['New price'].max()"
   ]
  },
  {
   "cell_type": "code",
   "execution_count": 17,
   "id": "54b03816-f97b-4e11-95a5-c97d4423a13f",
   "metadata": {},
   "outputs": [
    {
     "data": {
      "text/plain": [
       "<AxesSubplot:>"
      ]
     },
     "execution_count": 17,
     "metadata": {},
     "output_type": "execute_result"
    },
    {
     "data": {
      "image/png": "[encoded data removed]",
      "text/plain": [
       "<Figure size 432x288 with 2 Axes>"
      ]
     },
     "metadata": {
      "needs_background": "light"
     },
     "output_type": "display_data"
    }
   ],
   "source": [
    "import seaborn as sns\n",
    "sns.heatmap(data.corr())"
   ]
  },
  {
   "cell_type": "code",
   "execution_count": 27,
   "id": "fc8f4867-ae4d-449a-ba18-12e727931d6e",
   "metadata": {},
   "outputs": [
    {
     "data": {
      "text/plain": [
       "<AxesSubplot:xlabel='New price', ylabel='Discount'>"
      ]
     },
     "execution_count": 27,
     "metadata": {},
     "output_type": "execute_result"
    },
    {
     "data": {
      "image/png": "[encoded data removed]",
      "text/plain": [
       "<Figure size 432x288 with 1 Axes>"
      ]
     },
     "metadata": {
      "needs_background": "light"
     },
     "output_type": "display_data"
    }
   ],
   "source": [
    "sns.scatterplot(data=data,x='New price',y='Discount')"
   ]
  },
  {
   "cell_type": "code",
   "execution_count": 31,
   "id": "ee5e694b-debb-4a36-98e0-5f9853dbe5ce",
   "metadata": {},
   "outputs": [
    {
     "data": {
      "text/plain": [
       "-0.4879270150055384"
      ]
     },
     "execution_count": 31,
     "metadata": {},
     "output_type": "execute_result"
    }
   ],
   "source": [
    "data['New price'].corr(data['Discount'])"
   ]
  },
  {
   "cell_type": "code",
   "execution_count": 20,
   "id": "c764b9c1-08ea-4c51-91cb-29e436720715",
   "metadata": {},
   "outputs": [
    {
     "data": {
      "text/plain": [
       "<seaborn.axisgrid.JointGrid at 0x1a73d19e490>"
      ]
     },
     "execution_count": 20,
     "metadata": {},
     "output_type": "execute_result"
    },
    {
     "data": {
      "image/png": "[encoded data removed]",
      "text/plain": [
       "<Figure size 432x432 with 3 Axes>"
      ]
     },
     "metadata": {
      "needs_background": "light"
     },
     "output_type": "display_data"
    }
   ],
   "source": [
    "sns.jointplot(y='Discount',x='New price',data=data,kind='hex')"
   ]
  },
  {
   "cell_type": "code",
   "execution_count": null,
   "id": "e2d55a0f-4f5d-41f8-8c4f-15b6c3e92457",
   "metadata": {},
   "outputs": [],
   "source": [
    "data1 = data.groupby(['Name']).max().sort_values(by='New price')"
   ]
  },
  {
   "cell_type": "code",
   "execution_count": null,
   "id": "939ae1dd-200e-4502-a1c2-f5a128297876",
   "metadata": {},
   "outputs": [],
   "source": [
    "data1"
   ]
  },
  {
   "cell_type": "code",
   "execution_count": null,
   "id": "e5a442a6-840e-4bca-a4fd-6fc2c9e5e76e",
   "metadata": {},
   "outputs": [],
   "source": [
    "plt.rcParams['figure.figsize'] = 12,4\n",
    "plt.plot(data1.index, data1['New price'])\n",
    "plt.grid()"
   ]
  },
  {
   "cell_type": "code",
   "execution_count": null,
   "id": "1b32b5d3-1c4b-4b8f-87fb-e338b6d76c21",
   "metadata": {},
   "outputs": [],
   "source": [
    "features=['Details','Discount']\n",
    "target=['New price']"
   ]
  },
  {
   "cell_type": "code",
   "execution_count": null,
   "id": "bc16b101-1852-42ce-831c-9e23ca0a8b24",
   "metadata": {},
   "outputs": [],
   "source": [
    "data.corr()"
   ]
  },
  {
   "cell_type": "code",
   "execution_count": null,
   "id": "c69a9ae1-afe8-4e7f-8935-6374448ca9b3",
   "metadata": {},
   "outputs": [],
   "source": [
    "y=data[target]\n",
    "x=data[features]"
   ]
  },
  {
   "cell_type": "code",
   "execution_count": null,
   "id": "8798e3d1-ab82-40c1-8403-6127db6362dd",
   "metadata": {},
   "outputs": [],
   "source": [
    "x= pd.get_dummies(x).values"
   ]
  },
  {
   "cell_type": "code",
   "execution_count": null,
   "id": "165c9bba-3d94-4e57-9043-73c9d23cd6de",
   "metadata": {},
   "outputs": [],
   "source": [
    "x"
   ]
  },
  {
   "cell_type": "code",
   "execution_count": null,
   "id": "4f95a49a-ad50-430b-b944-4cf43f029509",
   "metadata": {},
   "outputs": [],
   "source": [
    "from sklearn.model_selection import train_test_split\n",
    "X_train,X_test,Y_train,Y_test = train_test_split(x,y,train_size = 0.8, random_state = 0)"
   ]
  },
  {
   "cell_type": "code",
   "execution_count": null,
   "id": "3a415f6e-34c5-49d3-a52b-df232521b7f4",
   "metadata": {},
   "outputs": [],
   "source": [
    "from sklearn.ensemble import RandomForestRegressor\n",
    "regressor = RandomForestRegressor(n_estimators=80,random_state=1)\n",
    "regressor.fit(X_train,Y_train)\n",
    "prediction=regressor.predict(X_test)"
   ]
  },
  {
   "cell_type": "code",
   "execution_count": null,
   "id": "c9e8afc3-41e2-4941-89c8-c863603083a7",
   "metadata": {},
   "outputs": [],
   "source": [
    "prediction"
   ]
  },
  {
   "cell_type": "code",
   "execution_count": null,
   "id": "a522ab8e-88dd-472b-bb9b-aa55a3e00cd6",
   "metadata": {},
   "outputs": [],
   "source": [
    "from sklearn.metrics import r2_score, mean_squared_error\n",
    "#from ml_metrics import rmse_score \n",
    "score1 = r2_score(Y_test, prediction)\n",
    "score2 = np.sqrt(mean_squared_error(Y_test, prediction))"
   ]
  },
  {
   "cell_type": "code",
   "execution_count": null,
   "id": "7d1b3df0-8488-4ebf-870a-cbd3d0e9b34a",
   "metadata": {},
   "outputs": [],
   "source": [
    "score1"
   ]
  },
  {
   "cell_type": "code",
   "execution_count": null,
   "id": "fb3984b2-0643-49f3-87ac-7ea3dbd4d2a1",
   "metadata": {},
   "outputs": [],
   "source": [
    "score2"
   ]
  },
  {
   "cell_type": "code",
   "execution_count": null,
   "id": "b85f3d2d-d38a-40f1-90cb-abd14bafe1de",
   "metadata": {},
   "outputs": [],
   "source": [
    "from xgboost import XGBRegressor\n",
    "regressor = XGBRegressor()\n",
    "regressor.fit(X_train,Y_train)"
   ]
  },
  {
   "cell_type": "code",
   "execution_count": null,
   "id": "b680cf80-9d4c-4f3b-ae70-29be8700a210",
   "metadata": {},
   "outputs": [],
   "source": [
    "Y_pred = regressor.predict(X_test)"
   ]
  },
  {
   "cell_type": "code",
   "execution_count": null,
   "id": "d8f4da16-9319-47f7-9a8c-8a7be4cf0fc3",
   "metadata": {},
   "outputs": [],
   "source": [
    "from sklearn.metrics import mean_squared_error, r2_score\n",
    "r2 = r2_score(Y_test, Y_pred)\n",
    "mean_squared_error = mean_squared_error(Y_test,Y_pred)"
   ]
  },
  {
   "cell_type": "code",
   "execution_count": null,
   "id": "03cf1bca-7ec1-4842-96c1-5001af35a177",
   "metadata": {},
   "outputs": [],
   "source": [
    "r2"
   ]
  },
  {
   "cell_type": "code",
   "execution_count": null,
   "id": "57606914-04ef-443c-9f26-ae1586c27c19",
   "metadata": {},
   "outputs": [],
   "source": [
    "import math"
   ]
  },
  {
   "cell_type": "code",
   "execution_count": null,
   "id": "90cbcdac-e715-4486-9337-45337ec2b922",
   "metadata": {},
   "outputs": [],
   "source": [
    "data['New price'].mean()"
   ]
  },
  {
   "cell_type": "code",
   "execution_count": null,
   "id": "59e0b093-d6ee-4920-bff6-0c306a340e50",
   "metadata": {},
   "outputs": [],
   "source": [
    "math.sqrt(mean_squared_error)"
   ]
  },
  {
   "cell_type": "code",
   "execution_count": null,
   "id": "f2cdd06d-8558-4731-a400-0e638124df7c",
   "metadata": {},
   "outputs": [],
   "source": []
  },
  {
   "cell_type": "code",
   "execution_count": null,
   "id": "233ddda5-032f-46b9-9d23-75cdf1e1fabf",
   "metadata": {},
   "outputs": [],
   "source": []
  }
 ],
 "metadata": {
  "kernelspec": {
   "display_name": "Python 3 (ipykernel)",
   "language": "python",
   "name": "python3"
  },
  "language_info": {
   "codemirror_mode": {
    "name": "ipython",
    "version": 3
   },
   "file_extension": ".py",
   "mimetype": "text/x-python",
   "name": "python",
   "nbconvert_exporter": "python",
   "pygments_lexer": "ipython3",
   "version": "3.9.7"
  }
 },
 "nbformat": 4,
 "nbformat_minor": 5
}
