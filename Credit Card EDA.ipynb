{
 "cells": [
  {
   "cell_type": "code",
   "execution_count": null,
   "id": "73131883-e322-42d6-aaeb-6e3ad0cd62b5",
   "metadata": {},
   "outputs": [],
   "source": [
    "import numpy as np\n",
    "import pandas as pd\n",
    "import warnings\n",
    "warnings.filterwarnings('ignore')\n",
    "import missingno as mn\n",
    "pd.set_option('display.max_columns',100)\n",
    "\n",
    "import matplotlib.pyplot as plt\n",
    "import seaborn as sns"
   ]
  },
  {
   "cell_type": "code",
   "execution_count": null,
   "id": "5cdf89c9-a11a-48e2-98cb-19e11f3613d2",
   "metadata": {},
   "outputs": [],
   "source": [
    "credit_dataset=pd.read_csv('../input/credit-card-customers/BankChurners.csv')\n",
    "credit_dataset.head()"
   ]
  },
  {
   "cell_type": "code",
   "execution_count": null,
   "id": "35e07a3e-ac5a-407f-86fb-057fd9e9c0d6",
   "metadata": {},
   "outputs": [],
   "source": [
    "#Get the shape of the dataset\n",
    "\n",
    "credit_dataset.shape"
   ]
  },
  {
   "cell_type": "code",
   "execution_count": null,
   "id": "12a5e613-a263-42ad-ac71-e340be9d8bc6",
   "metadata": {},
   "outputs": [],
   "source": [
    "#Information of dataset\n",
    "\n",
    "credit_dataset.info()"
   ]
  },
  {
   "cell_type": "code",
   "execution_count": null,
   "id": "c755bc43-310b-4518-a4f9-a28df6f5150e",
   "metadata": {},
   "outputs": [],
   "source": [
    "#Get statistical information of the dataset\n",
    "\n",
    "credit_dataset.describe(percentiles=[0.,0.25,0.5,0.75,1.])"
   ]
  },
  {
   "cell_type": "code",
   "execution_count": null,
   "id": "247e42a3-95c4-44f1-9f34-29c170ede857",
   "metadata": {},
   "outputs": [],
   "source": [
    "credit_dataset=credit_dataset.drop_duplicates()\n",
    "credit_dataset.shape"
   ]
  },
  {
   "cell_type": "code",
   "execution_count": null,
   "id": "726df7fe-4450-4823-8e59-1c402a3f4605",
   "metadata": {},
   "outputs": [],
   "source": [
    "#Get the percentage of missing data\n",
    "\n",
    "round(100*(credit_dataset.isnull().sum()/len(credit_dataset)),2)"
   ]
  },
  {
   "cell_type": "code",
   "execution_count": null,
   "id": "b63351ab-e9d9-457f-a5e1-a482a469315e",
   "metadata": {},
   "outputs": [],
   "source": [
    "#Get the missing data using missing library\n",
    "mn.matrix(credit_dataset)"
   ]
  },
  {
   "cell_type": "code",
   "execution_count": null,
   "id": "e73c5ab2-6084-45a1-aab1-d0761b8e0964",
   "metadata": {},
   "outputs": [],
   "source": [
    "#Get the list of numerical columns\n",
    "\n",
    "credit_dataset.select_dtypes(['int64','float64']).columns"
   ]
  },
  {
   "cell_type": "code",
   "execution_count": null,
   "id": "98085cbc-f727-4253-95e1-eabc054fb3d5",
   "metadata": {},
   "outputs": [],
   "source": [
    "#Get the list of categorical columns\n",
    "\n",
    "credit_dataset.select_dtypes(['object']).columns"
   ]
  },
  {
   "cell_type": "code",
   "execution_count": null,
   "id": "019a1824-cd11-4314-b4b2-cb4c637822ae",
   "metadata": {},
   "outputs": [],
   "source": [
    "#Get the value count for  Attrition flag\n",
    "credit_dataset['Attrition_Flag'].value_counts()"
   ]
  },
  {
   "cell_type": "code",
   "execution_count": null,
   "id": "f113e358-6cb2-4160-834b-4b2737b6833b",
   "metadata": {},
   "outputs": [],
   "source": [
    "#Get the value count for Gender column\n",
    "\n",
    "credit_dataset['Gender'].value_counts()"
   ]
  },
  {
   "cell_type": "code",
   "execution_count": null,
   "id": "42701781-9b56-47ba-960e-65a65fa6be99",
   "metadata": {},
   "outputs": [],
   "source": [
    "#Get the value count for Education_Level column\n",
    "\n",
    "credit_dataset['Education_Level'].value_counts()"
   ]
  },
  {
   "cell_type": "code",
   "execution_count": null,
   "id": "a4f1014b-3e1c-4be2-bfbf-4debef0a8d3c",
   "metadata": {},
   "outputs": [],
   "source": [
    "#Replace the unknown Education_Level with the mode\n",
    "\n",
    "credit_dataset['Education_Level'].replace('Unknown',credit_dataset['Education_Level'].mode()[0],inplace=True)\n",
    "credit_dataset['Education_Level'].value_counts()"
   ]
  },
  {
   "cell_type": "code",
   "execution_count": null,
   "id": "a7b14a44-aa80-438e-8f7e-ca26c605c979",
   "metadata": {},
   "outputs": [],
   "source": [
    "#Get the value count for Marital_Status column\n",
    "\n",
    "credit_dataset['Marital_Status'].value_counts()"
   ]
  },
  {
   "cell_type": "code",
   "execution_count": null,
   "id": "a9b5cd6e-39f8-4b1b-82de-d4df179b7755",
   "metadata": {},
   "outputs": [],
   "source": [
    "#Replace the unknown Marital_Status with the mode\n",
    "\n",
    "credit_dataset['Marital_Status'].replace('Unknown',credit_dataset['Marital_Status'].mode()[0],inplace=True)\n",
    "credit_dataset['Marital_Status'].value_counts()"
   ]
  },
  {
   "cell_type": "code",
   "execution_count": null,
   "id": "00351da2-d5d9-489b-8e11-8cc66ff016ba",
   "metadata": {},
   "outputs": [],
   "source": [
    "#Get the value count for Income_Category\n",
    "\n",
    "credit_dataset['Income_Category'].value_counts()"
   ]
  },
  {
   "cell_type": "code",
   "execution_count": null,
   "id": "88efdc29-cbbe-47e5-865c-3b61aa3f724b",
   "metadata": {},
   "outputs": [],
   "source": [
    "#Replace the unknown income category with the mode\n",
    "\n",
    "credit_dataset['Income_Category'].replace('Unknown',credit_dataset['Income_Category'].mode()[0],inplace=True)\n",
    "credit_dataset['Income_Category'].value_counts()"
   ]
  },
  {
   "cell_type": "code",
   "execution_count": null,
   "id": "e274f7a8-b42f-4923-b9b7-2a64aa7921cf",
   "metadata": {},
   "outputs": [],
   "source": [
    "#Get the value count for Card_Category\n",
    "\n",
    "credit_dataset['Card_Category'].value_counts()"
   ]
  },
  {
   "cell_type": "code",
   "execution_count": null,
   "id": "a129d399-af04-4bf1-a4fe-c85c1978d7e2",
   "metadata": {},
   "outputs": [],
   "source": [
    "# Encoding for categorical columns:Attrition_Flag\n",
    "\n",
    "credit_dataset['Attrition_Flag'].replace(['Existing Customer','Attrited Customer'],[0,1],inplace=True)\n",
    "credit_dataset['Attrition_Flag'].value_counts()"
   ]
  },
  {
   "cell_type": "code",
   "execution_count": null,
   "id": "2f88b7eb-bddb-401e-926d-5d5e2f3c5de4",
   "metadata": {},
   "outputs": [],
   "source": [
    "#Encoding for categorical columns:Gender\n",
    "\n",
    "credit_dataset['Gender'].replace(['F','M'],[0,1],inplace=True)\n",
    "credit_dataset['Gender'].value_counts()"
   ]
  },
  {
   "cell_type": "code",
   "execution_count": null,
   "id": "ebed8838-3a47-43b3-936a-b12909b600ee",
   "metadata": {},
   "outputs": [],
   "source": [
    "#Creating dummy variables for columns:Education_Level,Marital_Status,Income_Category,Card_Category\n",
    "\n",
    "dummy=pd.get_dummies(credit_dataset[['Education_Level','Marital_Status','Income_Category','Card_Category']],drop_first=True)\n",
    "\n",
    "credit_dataset=pd.concat([credit_dataset,dummy],axis=1)"
   ]
  },
  {
   "cell_type": "code",
   "execution_count": null,
   "id": "c2fbd4b7-d51a-4bd9-97d3-fb766e132138",
   "metadata": {},
   "outputs": [],
   "source": [
    "#Dropping columns for which dummy variable is created\n",
    "\n",
    "credit_dataset.drop(['Education_Level','Marital_Status','Income_Category','Card_Category'],axis=1,inplace=True)"
   ]
  },
  {
   "cell_type": "code",
   "execution_count": null,
   "id": "9b34be06-1938-4ef2-8bd3-6d60f65043cd",
   "metadata": {},
   "outputs": [],
   "source": [
    "#Get the view of the dataset\n",
    "\n",
    "credit_dataset.head()"
   ]
  },
  {
   "cell_type": "code",
   "execution_count": null,
   "id": "2af58298-35f1-4f36-9392-b952fed6fdb3",
   "metadata": {},
   "outputs": [],
   "source": [
    "#Validate the shape of dataset\n",
    "\n",
    "credit_dataset.shape"
   ]
  },
  {
   "cell_type": "code",
   "execution_count": null,
   "id": "d2eb2fb9-91e2-4302-9e9c-7f22d309253d",
   "metadata": {},
   "outputs": [],
   "source": [
    "#Get the info of the dataset\n",
    "\n",
    "credit_dataset.info()"
   ]
  },
  {
   "cell_type": "code",
   "execution_count": null,
   "id": "322b3268-b9bf-471f-8916-c18b7208905a",
   "metadata": {},
   "outputs": [],
   "source": [
    "#Drop columns name which starts with'Naive_Bayes_Classifier' as its not required\n",
    "\n",
    "credit_dataset.drop(['Naive_Bayes_Classifier_Attrition_Flag_Card_Category_Contacts_Count_12_mon_Dependent_count_Education_Level_Months_Inactive_12_mon_1',\n",
    "                     'Naive_Bayes_Classifier_Attrition_Flag_Card_Category_Contacts_Count_12_mon_Dependent_count_Education_Level_Months_Inactive_12_mon_2'],\n",
    "                    axis=1,inplace=True)"
   ]
  },
  {
   "cell_type": "code",
   "execution_count": null,
   "id": "3645c6dc-ba37-4f4a-9568-616c5dddef50",
   "metadata": {},
   "outputs": [],
   "source": [
    "#Check the dataset again\n",
    "\n",
    "credit_dataset.head()"
   ]
  },
  {
   "cell_type": "code",
   "execution_count": null,
   "id": "1dc6a7fa-86b0-48fe-abfb-1987e413b062",
   "metadata": {},
   "outputs": [],
   "source": [
    "#Get statistical information of the dataset\n",
    "\n",
    "credit_dataset.describe()"
   ]
  },
  {
   "cell_type": "code",
   "execution_count": null,
   "id": "43b8842b-65c6-4461-b4dd-6908d05603fc",
   "metadata": {},
   "outputs": [],
   "source": [
    "#  I see some extreme values in numerical column,lets proceed with box plot for visualization\n",
    "num_cols=credit_dataset.select_dtypes(['float64','int64'])\n",
    "num_cols.head()"
   ]
  },
  {
   "cell_type": "code",
   "execution_count": null,
   "id": "3fcbaef1-e0dd-4919-ad95-ae64fae3b2cc",
   "metadata": {},
   "outputs": [],
   "source": [
    "plt.figure(figsize=[7,6])\n",
    "num_cols = credit_dataset.select_dtypes(['int64','float64']).columns\n",
    "for i in range(len(num_cols)):\n",
    "    sns.boxplot(credit_dataset[num_cols[i]])\n",
    "    plt.show()"
   ]
  },
  {
   "cell_type": "code",
   "execution_count": null,
   "id": "87fe87f0-bf5a-4852-8e85-f1e881bc406e",
   "metadata": {},
   "outputs": [],
   "source": [
    "Thus,we see that,\n",
    "\n",
    "'Months_on_book',\n",
    "\n",
    "'Months_Inactive_12_mon',\n",
    "\n",
    "'Contacts_Count_12_mon',\n",
    "\n",
    "'Credit_Limit',\n",
    "\n",
    "'Avg_Open_To_Buy',\n",
    "\n",
    "'Total_Amt_Chng_Q4_Q1' , 'Total_Trans_Amt',\n",
    "\n",
    "'Total_Trans_Ct',\n",
    "\n",
    "'Total_Ct_Chng_Q4_Q1'\n",
    "\n",
    "These columns has extreme values"
   ]
  },
  {
   "cell_type": "code",
   "execution_count": null,
   "id": "b0eb905a-3045-4a40-80cb-820e4e3ce7bd",
   "metadata": {},
   "outputs": [],
   "source": [
    "#    Dropping outliers from features\n",
    "def treat_outlier(x):\n",
    "    q5 = np.percentile(x,5)\n",
    "    q25= np.percentile(x,25)\n",
    "    q75= np.percentile(x,75)\n",
    "    up_trend=np.percentile(x,95)\n",
    "    IQR = q75-q25\n",
    "    LTV = q25-(1.5*IQR)\n",
    "    UTV = q75+(1.5*IQR)\n",
    "    \n",
    "    return x.apply(lambda y: up_trend if y> UTV else y).apply(lambda y: q5 if y < LTV else y)"
   ]
  },
  {
   "cell_type": "code",
   "execution_count": null,
   "id": "86867288-0f6a-41f2-80e5-4395b3c9f039",
   "metadata": {},
   "outputs": [],
   "source": [
    "outlier_list = ['Months_on_book','Months_Inactive_12_mon',\n",
    "                'Contacts_Count_12_mon','Credit_Limit','Avg_Open_To_Buy',\n",
    "                'Total_Amt_Chng_Q4_Q1','Total_Trans_Amt','Total_Trans_Ct','Total_Ct_Chng_Q4_Q1']"
   ]
  },
  {
   "cell_type": "code",
   "execution_count": null,
   "id": "6956b78f-793c-470e-876f-34c445e108ed",
   "metadata": {},
   "outputs": [],
   "source": [
    "for i in credit_dataset[outlier_list]:\n",
    "    credit_dataset[i]=treat_outlier(credit_dataset[i])"
   ]
  },
  {
   "cell_type": "code",
   "execution_count": null,
   "id": "c51a552c-8cba-4af4-b861-7caf48acbf8a",
   "metadata": {},
   "outputs": [],
   "source": [
    "plt.style.use('fivethirtyeight')\n",
    "outlier= credit_dataset.plot(kind='box',figsize=(20,7));\n",
    "plt.xticks(rotation=70);\n",
    "plt.title('Outlier treated in df');"
   ]
  },
  {
   "cell_type": "code",
   "execution_count": null,
   "id": "5dc85c7f-41a7-4ff8-956b-2636e5c18757",
   "metadata": {},
   "outputs": [],
   "source": [
    "#Rechecking whether extreme values are there in dataset\n",
    "\n",
    "plt.figure(figsize=[7,6])\n",
    "num_cols = credit_dataset.select_dtypes(['int64','float64']).columns\n",
    "for i in range(len(num_cols)):\n",
    "    sns.boxplot(credit_dataset[num_cols[i]])\n",
    "    plt.show()"
   ]
  },
  {
   "cell_type": "code",
   "execution_count": null,
   "id": "1ea7173a-e84a-4150-94d0-96f26c6d92af",
   "metadata": {},
   "outputs": [],
   "source": [
    "#Churn customers\n",
    "\n",
    "Churn=credit_dataset[credit_dataset['Attrition_Flag']==1]\n",
    "Churn.shape"
   ]
  },
  {
   "cell_type": "code",
   "execution_count": null,
   "id": "33f1a839-7e91-4977-b251-50c31742a06d",
   "metadata": {},
   "outputs": [],
   "source": [
    "Churn.head()"
   ]
  },
  {
   "cell_type": "code",
   "execution_count": null,
   "id": "9d0a4edc-0adb-4a37-89ba-6894c4b9fbe6",
   "metadata": {},
   "outputs": [],
   "source": [
    "#Non Churn customers\n",
    "NonChurn=credit_dataset[credit_dataset['Attrition_Flag']==0]\n",
    "NonChurn.shape"
   ]
  },
  {
   "cell_type": "code",
   "execution_count": null,
   "id": "74ae2c99-f2cf-4ee7-aa18-5352f49c233f",
   "metadata": {},
   "outputs": [],
   "source": [
    "NonChurn.head()"
   ]
  },
  {
   "cell_type": "code",
   "execution_count": null,
   "id": "37b9aea2-5672-477a-ac31-a1bac5a12cd4",
   "metadata": {},
   "outputs": [],
   "source": [
    "#Get the gender count\n",
    "credit_dataset['Gender'].value_counts()"
   ]
  },
  {
   "cell_type": "code",
   "execution_count": null,
   "id": "6e15800c-e773-4632-a3a8-f776a22e18cd",
   "metadata": {},
   "outputs": [],
   "source": [
    "Churn['Gender'].value_counts()"
   ]
  },
  {
   "cell_type": "code",
   "execution_count": null,
   "id": "5671cc38-815b-4ed6-94cd-e70f9bc62060",
   "metadata": {},
   "outputs": [],
   "source": [
    "#Barplot for checking how gender is responsible for Attrition\n",
    "\n",
    "plt.figure(figsize=(10,9))\n",
    "sns.barplot(x='Gender',y='Attrition_Flag',data=credit_dataset)\n",
    "plt.show()"
   ]
  },
  {
   "cell_type": "code",
   "execution_count": null,
   "id": "cfa7bde3-f42d-473d-95dd-7f948b8042be",
   "metadata": {},
   "outputs": [],
   "source": [
    "#Barplot for checking how age is responsible for Attrition\n",
    "\n",
    "plt.figure(figsize=(10,9))\n",
    "sns.barplot(x='Customer_Age',y='Attrition_Flag',data=credit_dataset)\n",
    "plt.show("
   ]
  },
  {
   "cell_type": "code",
   "execution_count": null,
   "id": "df69c10d-710c-46b4-aa7f-11582509b044",
   "metadata": {},
   "outputs": [],
   "source": [
    "#function for age groups\n",
    "\n",
    "def Age_Group(x):\n",
    "    if x>=20 and x<30:\n",
    "        return 30\n",
    "    elif x>=30 and x<40:\n",
    "        return 40\n",
    "    elif x>=40 and x<50:\n",
    "        return 50\n",
    "    else:\n",
    "        return 60\n",
    "\n",
    "credit_dataset['Age_Group']=credit_dataset['Customer_Age'].apply(Age_Group)"
   ]
  },
  {
   "cell_type": "code",
   "execution_count": null,
   "id": "0cc215ae-7ee3-4780-ac36-c2d41baa87ca",
   "metadata": {},
   "outputs": [],
   "source": [
    "#Distribution plot\n",
    "\n",
    "plt.subplots(1,2,figsize=(12,8))\n",
    "\n",
    "plt.subplot(1,2,1)\n",
    "plt.title('Age group distribution')\n",
    "sns.distplot(credit_dataset.Age_Group, hist=True, kde=False)\n",
    "\n",
    "plt.subplot(1,2,2)\n",
    "plt.title('Churn rate in each Age group')\n",
    "sns.countplot('Age_Group', hue = 'Attrition_Flag', data = credit_dataset)\n",
    "plt.legend()\n",
    "plt.show()\n"
   ]
  },
  {
   "cell_type": "code",
   "execution_count": null,
   "id": "ae5014ae-bfa8-4f67-82ca-7769245ca17a",
   "metadata": {},
   "outputs": [],
   "source": [
    "We see that Customers churn more when they reach above 40 yrs of age"
   ]
  },
  {
   "cell_type": "code",
   "execution_count": null,
   "id": "c01ca454-177f-4a51-ba9e-21109d9d675c",
   "metadata": {},
   "outputs": [],
   "source": [
    "#   Months_Inactive\n",
    "\n",
    "credit_dataset['Months_Inactive_12_mon'].value_counts()"
   ]
  },
  {
   "cell_type": "code",
   "execution_count": null,
   "id": "60cbd0c9-7e4f-4c6b-9478-1dba9f3f6adc",
   "metadata": {},
   "outputs": [],
   "source": [
    "plt.figure(figsize = (20,5))\n",
    "sns.countplot('Months_Inactive_12_mon', hue = 'Attrition_Flag', data = credit_dataset)"
   ]
  },
  {
   "cell_type": "code",
   "execution_count": null,
   "id": "b6f298cb-f77b-44a0-b323-82f07a1db515",
   "metadata": {},
   "outputs": [],
   "source": [
    "plt.figure(figsize=(6,4))\n",
    "plt.title('Customer Highest Churn Month')\n",
    "sns.distplot(Churn.Months_Inactive_12_mon,hist=False)\n",
    "plt.show()"
   ]
  },
  {
   "cell_type": "code",
   "execution_count": null,
   "id": "402fd192-b061-4703-a588-ee5f1a2da588",
   "metadata": {},
   "outputs": [],
   "source": [
    "Customers churn more when they remain inactive for 3 months"
   ]
  },
  {
   "cell_type": "code",
   "execution_count": null,
   "id": "dc416b57-727a-4739-a2a2-ab9f87bbdeaa",
   "metadata": {},
   "outputs": [],
   "source": [
    "#  Dependent_count\n",
    "\n",
    "credit_dataset['Dependent_count'].value_counts()"
   ]
  },
  {
   "cell_type": "code",
   "execution_count": null,
   "id": "ecb77693-be3e-4744-aede-a2dab470f2f1",
   "metadata": {},
   "outputs": [],
   "source": [
    "plt.figure(figsize = (20,5))\n",
    "sns.distplot(Churn.Dependent_count, hist = False, label = 'Churn')\n",
    "sns.distplot(NonChurn.Dependent_count, hist = False, label  = 'Non-Churn')\n",
    "plt.legend()\n",
    "plt.show()"
   ]
  },
  {
   "cell_type": "code",
   "execution_count": null,
   "id": "f81661c1-ea82-42e3-985a-0044bf1fb221",
   "metadata": {},
   "outputs": [],
   "source": [
    "#  Credit_Limit\n",
    "\n",
    "\n",
    "credit_dataset['Credit_Limit'].value_counts()"
   ]
  },
  {
   "cell_type": "code",
   "execution_count": null,
   "id": "85389053-b33a-4fde-81ae-529f360355dd",
   "metadata": {},
   "outputs": [],
   "source": [
    "credit_dataset['Credit_Limit'].describe()"
   ]
  },
  {
   "cell_type": "code",
   "execution_count": null,
   "id": "14040d4b-0429-4831-86b1-a34b14d32107",
   "metadata": {},
   "outputs": [],
   "source": [
    "Churn['Credit_Limit'].describe()"
   ]
  },
  {
   "cell_type": "code",
   "execution_count": null,
   "id": "b13e1303-b100-459e-83dd-a043a299713f",
   "metadata": {},
   "outputs": [],
   "source": [
    "NonChurn['Credit_Limit'].describe()"
   ]
  },
  {
   "cell_type": "code",
   "execution_count": null,
   "id": "5098fbd2-ff13-4944-8393-03058d129dce",
   "metadata": {},
   "outputs": [],
   "source": [
    "#Credit Limit for Churn Customers\n",
    "\n",
    "plt.figure(figsize = (18,5))\n",
    "sns.boxplot(x = credit_dataset['Attrition_Flag'], y =credit_dataset['Credit_Limit'] )\n",
    "plt.show()"
   ]
  },
  {
   "cell_type": "code",
   "execution_count": null,
   "id": "fe1fa7aa-0165-4921-8aa9-741828d6b590",
   "metadata": {},
   "outputs": [],
   "source": [
    "#Distribution plot for Churn/Non Churn Customers\n",
    "\n",
    "plt.figure(figsize = (12,8))\n",
    "\n",
    "\n",
    "plt.subplot(1,2,1)\n",
    "plt.title(\"Churn Customers Credit Limit\")\n",
    "sns.distplot(Churn.Credit_Limit)\n",
    "\n",
    "\n",
    "plt.subplot(1,2,2)\n",
    "plt.title(\"Non-Churn Customers Credit Limit\")\n",
    "sns.distplot(NonChurn.Credit_Limit)\n",
    "plt.show()"
   ]
  },
  {
   "cell_type": "code",
   "execution_count": null,
   "id": "c6687bb9-5e13-4723-b375-6755129ccd3f",
   "metadata": {},
   "outputs": [],
   "source": [
    "Based on above Boxplo below are the observations:\n",
    "\n",
    "1.Customers who has higher credit limit churn less than Churn Customers"
   ]
  },
  {
   "cell_type": "code",
   "execution_count": null,
   "id": "42ba0624-29be-4ac1-b597-670a6af593af",
   "metadata": {},
   "outputs": [],
   "source": [
    "Total_Revolving_Bal\n",
    "If you don't pay the balance on your revolving credit account in full every month, the unpaid portion carries over to the next month"
   ]
  },
  {
   "cell_type": "code",
   "execution_count": null,
   "id": "e31d8092-302e-4e5c-bc92-9d3249e568fa",
   "metadata": {},
   "outputs": [],
   "source": [
    "Churn['Total_Revolving_Bal'].describe()"
   ]
  },
  {
   "cell_type": "code",
   "execution_count": null,
   "id": "7ed22041-a560-4840-a31d-bd757068cc3c",
   "metadata": {},
   "outputs": [],
   "source": [
    "NonChurn['Total_Revolving_Bal'].describe()"
   ]
  },
  {
   "cell_type": "code",
   "execution_count": null,
   "id": "61c4dc29-bbb4-4891-ba35-5d187e10b57e",
   "metadata": {},
   "outputs": [],
   "source": [
    "#Total_Revolving_Bal for Churn/NonChurn Customers\n",
    "\n",
    "plt.figure(figsize = (20,5))\n",
    "sns.barplot(y='Total_Revolving_Bal',x='Attrition_Flag',data=credit_dataset)\n",
    "plt.title('Total_Revolving_Bal for Churn/Non Churn Customers')\n",
    "plt.show()"
   ]
  },
  {
   "cell_type": "code",
   "execution_count": null,
   "id": "cc58450b-58b4-4103-ba53-8b97c0162af4",
   "metadata": {},
   "outputs": [],
   "source": [
    "#Plotting Histogram for Churn/Non Churn Customers\n",
    "\n",
    "plt.figure(figsize = (20,5))\n",
    "plt.subplot(1,2,1)\n",
    "plt.title('Total_Revolving_Bal for Churn Customers')\n",
    "sns.histplot(Churn.Total_Revolving_Bal)\n",
    "\n",
    "plt.subplot(1,2,2)\n",
    "plt.title('Total_Revolving_Bal for Non Churn Customers')\n",
    "sns.histplot(NonChurn.Total_Revolving_Bal)\n",
    "plt.show()"
   ]
  },
  {
   "cell_type": "code",
   "execution_count": null,
   "id": "8afd8a30-fb1b-4dc5-a96e-8fe16b8c832d",
   "metadata": {},
   "outputs": [],
   "source": [
    "best_score=Churn[Churn.Total_Revolving_Bal<0.3*Churn.Credit_Limit]\n",
    "best_score['Total_Revolving_Bal'].shape"
   ]
  },
  {
   "cell_type": "code",
   "execution_count": null,
   "id": "41cb654a-12c5-48b6-90b9-0222e65f1c1c",
   "metadata": {},
   "outputs": [],
   "source": [
    "Based on above observations:\n",
    "\n",
    "1.Revolving balance is less for Churn Customers and is maintained well,there does not seems to be rise \n",
    "and its seems that Churn Customers has constant revolving balance which will reduce the interest incurred\n",
    "as well as the obtain good credit score as compared to Non Churn which has a low -high peak.\n",
    "\n",
    "2.On a avg,revolving balance for Churn is 672 which is half of Non Churn Customers"
   ]
  },
  {
   "cell_type": "code",
   "execution_count": null,
   "id": "28971703-9513-4187-8bca-3af757d04a4e",
   "metadata": {},
   "outputs": [],
   "source": [
    "#  Avg_Open_To_Buy\n",
    "credit_dataset['Avg_Open_To_Buy'].value_counts()"
   ]
  },
  {
   "cell_type": "code",
   "execution_count": null,
   "id": "b3d059cb-dc14-4a25-9752-c3518f56f523",
   "metadata": {},
   "outputs": [],
   "source": [
    "credit_dataset['Avg_Open_To_Buy'].describe()"
   ]
  },
  {
   "cell_type": "code",
   "execution_count": null,
   "id": "78905f6a-247d-443b-90ed-fc2cc2d962e2",
   "metadata": {},
   "outputs": [],
   "source": [
    "#Plotting Histogram for Churn/Non Churn Customers for Avg_Open_To_Buy\n",
    "\n",
    "plt.figure(figsize = (20,5))\n",
    "plt.subplot(1,2,1)\n",
    "plt.title('Avg_Open_To_Buy for Churn Customers')\n",
    "sns.histplot(Churn.Avg_Open_To_Buy)\n",
    "\n",
    "plt.subplot(1,2,2)\n",
    "plt.title('Avg_Open_To_Buy for Non Churn Customers')\n",
    "sns.histplot(NonChurn.Avg_Open_To_Buy)\n",
    "plt.show()"
   ]
  },
  {
   "cell_type": "code",
   "execution_count": null,
   "id": "a07af734-b7f3-44df-bb36-67459775e328",
   "metadata": {},
   "outputs": [],
   "source": [
    "# Thus there significant decline in Avg_Open_To_Buy for Churn Customers\n",
    "# Total_Amt_Chng_Q4_Q1\n",
    "# Represents how much the customer increased their expenditure when comparing the 4th quarter agains the 1st.\n",
    "credit_dataset['Total_Amt_Chng_Q4_Q1'].value_counts()\n"
   ]
  },
  {
   "cell_type": "code",
   "execution_count": null,
   "id": "1e1e4219-6036-4856-bfbb-558af6f164b2",
   "metadata": {},
   "outputs": [],
   "source": [
    "credit_dataset['Total_Amt_Chng_Q4_Q1'].describe()"
   ]
  },
  {
   "cell_type": "code",
   "execution_count": null,
   "id": "bcb26251-2312-404d-878e-35a52740e9ee",
   "metadata": {},
   "outputs": [],
   "source": [
    "plt.figure(figsize = (20,5))\n",
    "plt.subplot(1,2,1)\n",
    "plt.title('Total_Amt_Chng_Q4_Q1 for Churn Customers')\n",
    "sns.histplot(Churn.Total_Amt_Chng_Q4_Q1)\n",
    "\n",
    "plt.subplot(1,2,2)\n",
    "plt.title('Total_Amt_Chng_Q4_Q1 for Non Churn Customers')\n",
    "sns.histplot(NonChurn.Total_Amt_Chng_Q4_Q1)\n",
    "plt.show()"
   ]
  },
  {
   "cell_type": "code",
   "execution_count": null,
   "id": "975b71c7-e34c-43f8-bca4-e2c9c4235328",
   "metadata": {},
   "outputs": [],
   "source": [
    "#  Thus,change in expenditure increases for Q4 when compared with Q1 quarter for Churn Customers\n",
    "\n",
    "#  Total_Trans_Amt\n",
    "#  Get the vale count of total transaction\n",
    "\n",
    "credit_dataset['Total_Trans_Amt'].value_counts()"
   ]
  },
  {
   "cell_type": "code",
   "execution_count": null,
   "id": "9f51fe4a-81d1-4cfe-b5d7-3804316130da",
   "metadata": {},
   "outputs": [],
   "source": [
    "#Get statistical information of Churn Customers\n",
    "\n",
    "Churn['Total_Trans_Amt'].describe()"
   ]
  },
  {
   "cell_type": "code",
   "execution_count": null,
   "id": "25094301-9204-4369-aef0-0610986aebff",
   "metadata": {},
   "outputs": [],
   "source": [
    "#Get statistical information of NonChurn Customers\n",
    "NonChurn['Total_Trans_Amt'].describe()"
   ]
  },
  {
   "cell_type": "code",
   "execution_count": null,
   "id": "6c9c80e3-faf3-4812-825a-56a1c6090d8a",
   "metadata": {},
   "outputs": [],
   "source": [
    "Churn['Credit_Limit'].describe()\n"
   ]
  },
  {
   "cell_type": "code",
   "execution_count": null,
   "id": "da56f579-53ce-4c84-9116-7b0122ee21a7",
   "metadata": {},
   "outputs": [],
   "source": [
    "plt.figure(figsize = (20,5))\n",
    "plt.subplot(1,2,1)\n",
    "plt.title('Total_Trans_Amt for Churn Customers')\n",
    "sns.histplot(Churn.Total_Trans_Amt)\n",
    "\n",
    "plt.subplot(1,2,2)\n",
    "plt.title('Total_Trans_Amt for Non Churn Customers')\n",
    "sns.histplot(NonChurn.Total_Trans_Amt)\n",
    "plt.show()"
   ]
  },
  {
   "cell_type": "code",
   "execution_count": null,
   "id": "954798df-c55e-4d65-a388-6f9488b3e229",
   "metadata": {},
   "outputs": [],
   "source": [
    "plt.figure(figsize = (20,5))\n",
    "sns.distplot(Churn.Credit_Limit, hist = False, label = 'Churn_Credit_Limit')\n",
    "sns.distplot(NonChurn.Credit_Limit, hist = False, label  = 'NonChurn_Credit_Limit')\n",
    "sns.distplot(Churn.Total_Trans_Amt, hist = False, label = 'Churn.Total_Trans_Amt')\n",
    "sns.distplot(NonChurn.Total_Trans_Amt, hist = False, label  = 'NonChurn.Total_Trans_Amt')\n",
    "plt.title('Transaction Vs Credit Limit')\n",
    "plt.legend()\n",
    "plt.show()"
   ]
  },
  {
   "cell_type": "code",
   "execution_count": null,
   "id": "db9661d1-e9be-45dd-b35b-a215c1727b22",
   "metadata": {},
   "outputs": [],
   "source": [
    "plt.figure(figsize = (20,5))\n",
    "sns.distplot(Churn.Total_Trans_Amt, hist = False, label = 'Churn.Total_Trans_Amt')\n",
    "sns.distplot(NonChurn.Total_Trans_Amt, hist = False, label  = 'NonChurn.Total_Trans_Amt')\n",
    "plt.title('Total Transaction amount for Churn/NonChurn Customer')\n",
    "plt.legend()\n",
    "plt.show()"
   ]
  },
  {
   "cell_type": "code",
   "execution_count": null,
   "id": "90e883bc-3d00-4a39-a0b7-6488991ac52e",
   "metadata": {},
   "outputs": [],
   "source": [
    "# Thus,we see that:\n",
    "\n",
    "# Total Transaction amount of Churn Customers is less than Non Churn Customers as credit limit is low\n",
    "\n",
    "# Total_Trans_Ct\n",
    "credit_dataset['Total_Trans_Ct'].value_counts()"
   ]
  },
  {
   "cell_type": "code",
   "execution_count": null,
   "id": "acdcc020-e0bd-4408-895a-6694e039be20",
   "metadata": {},
   "outputs": [],
   "source": [
    "NonChurn['Total_Trans_Ct'].describe()"
   ]
  },
  {
   "cell_type": "code",
   "execution_count": null,
   "id": "a4d0c99b-fa8e-436a-9614-dc5104a83d71",
   "metadata": {},
   "outputs": [],
   "source": [
    "Churn['Total_Trans_Ct'].describe()"
   ]
  },
  {
   "cell_type": "code",
   "execution_count": null,
   "id": "7e65fda4-1a7e-47c9-a1e2-d9b7c111d36f",
   "metadata": {},
   "outputs": [],
   "source": [
    "plt.figure(figsize = (20,5))\n",
    "plt.subplot(1,2,1)\n",
    "plt.title('Total_Trans_Ct for Churn Customers')\n",
    "sns.histplot(Churn.Total_Trans_Ct)\n",
    "\n",
    "plt.subplot(1,2,2)\n",
    "plt.title('Total_Trans_Ct for Non Churn Customers')\n",
    "sns.histplot(NonChurn.Total_Trans_Ct)\n",
    "plt.show()"
   ]
  },
  {
   "cell_type": "code",
   "execution_count": null,
   "id": "d53da738-e954-4c29-a22b-2f5f61ee9015",
   "metadata": {},
   "outputs": [],
   "source": [
    "# Total Transaction count for Churn Customers on an avg is '44' and for Non Churn it '68'\n",
    "\n",
    "# Total_Ct_Chng_Q4_Q1\n",
    "credit_dataset['Total_Ct_Chng_Q4_Q1'].value_counts()"
   ]
  },
  {
   "cell_type": "code",
   "execution_count": null,
   "id": "ea036f22-2969-405f-9290-404a8cae24e2",
   "metadata": {},
   "outputs": [],
   "source": [
    "Churn['Total_Ct_Chng_Q4_Q1'].describe()"
   ]
  },
  {
   "cell_type": "code",
   "execution_count": null,
   "id": "2e5a36f4-91cb-4523-a174-3b541c4544b3",
   "metadata": {},
   "outputs": [],
   "source": [
    "NonChurn['Total_Ct_Chng_Q4_Q1'].describe()"
   ]
  },
  {
   "cell_type": "code",
   "execution_count": null,
   "id": "36c8146c-b0f0-45cd-b9b3-dfc30374f5bd",
   "metadata": {},
   "outputs": [],
   "source": [
    "plt.figure(figsize = (18,5))\n",
    "sns.boxplot(x = credit_dataset['Attrition_Flag'], y =credit_dataset['Total_Ct_Chng_Q4_Q1'])\n",
    "plt.title(\"Total Transaction Count for Churn/Non Churn Customers\")\n",
    "plt.show()"
   ]
  },
  {
   "cell_type": "code",
   "execution_count": null,
   "id": "c2c130a6-c14f-492e-b5fc-6ca6399c0fb2",
   "metadata": {},
   "outputs": [],
   "source": [
    "#  Avg_Utilization_Ratio\n",
    "credit_dataset['Avg_Utilization_Ratio'].value_counts()"
   ]
  },
  {
   "cell_type": "code",
   "execution_count": null,
   "id": "75f4c831-28e9-4bf3-8947-978366ae7171",
   "metadata": {},
   "outputs": [],
   "source": [
    "Churn['Avg_Utilization_Ratio'].describe()"
   ]
  },
  {
   "cell_type": "code",
   "execution_count": null,
   "id": "9d6c06e4-2fe1-42f1-b577-d54e1da3cabd",
   "metadata": {},
   "outputs": [],
   "source": [
    "NonChurn['Avg_Utilization_Ratio'].describe()"
   ]
  },
  {
   "cell_type": "code",
   "execution_count": null,
   "id": "6d7ab5a7-aded-428c-9e73-f4e9a5617e2e",
   "metadata": {},
   "outputs": [],
   "source": [
    "plt.figure(figsize = (20,5))\n",
    "sns.distplot(Churn.Avg_Utilization_Ratio, hist = False, label = 'Churn.Avg_Utilization_Ratio')\n",
    "sns.distplot(NonChurn.Avg_Utilization_Ratio, hist = False, label  = 'NonChurn.Avg_Utilization_Ratio')\n",
    "plt.title('Avg_Utilization_Ratio for Churn/NonChurn Customer')\n",
    "plt.legend()\n",
    "plt.show()"
   ]
  },
  {
   "cell_type": "code",
   "execution_count": null,
   "id": "a6875807-51d4-4c19-a293-36aa143d69cf",
   "metadata": {},
   "outputs": [],
   "source": [
    "#Average Utilization ratio for Churn Customers is less than Non Churn Customers\n",
    "\n",
    "#Get the customers who has utilization ratio  anything below 30%\n",
    "\n",
    "Avg_Util_less_than_30=credit_dataset[credit_dataset['Avg_Utilization_Ratio']<0.3]\n",
    "Avg_Util_less_than_30.shape"
   ]
  },
  {
   "cell_type": "code",
   "execution_count": null,
   "id": "d02de85d-c745-4f63-995d-90c7469be0a7",
   "metadata": {},
   "outputs": [],
   "source": [
    "#Get the Churn Customers who has utilization ratio  anything below 30%\n",
    "Avg_Util_Churn=Churn[Churn['Avg_Utilization_Ratio']>0.3]\n",
    "Avg_Util_Churn.shape"
   ]
  },
  {
   "cell_type": "code",
   "execution_count": null,
   "id": "3c176069-5f67-4bec-8b3e-a019488432bb",
   "metadata": {},
   "outputs": [],
   "source": [
    "#Get the NonChurn Customers who has utilization ratio  anything below 30%\n",
    "Avg_Util_NonChurn=NonChurn[NonChurn['Avg_Utilization_Ratio']>0.3]\n",
    "Avg_Util_NonChurn.shape"
   ]
  },
  {
   "cell_type": "code",
   "execution_count": null,
   "id": "1d7eec77-7d56-49ea-b102-4cac553beab0",
   "metadata": {},
   "outputs": [],
   "source": [
    "#Education Level\n",
    "Education=credit_dataset.loc[:,credit_dataset.columns.str.startswith('Education')].columns\n",
    "Education"
   ]
  },
  {
   "cell_type": "code",
   "execution_count": null,
   "id": "bda0deb0-7869-4aa8-97f9-e8b29a97fc71",
   "metadata": {},
   "outputs": [],
   "source": [
    "plt.figure(figsize = (20,5))\n",
    "for i in range(len(Education)):\n",
    "    sns.distplot(Churn[Education[i]], hist = False, label = 'Churn')\n",
    "    sns.distplot(NonChurn[Education[i]], hist = False, label  = 'NonChurn')\n",
    "    plt.title(\"{} for Churn/Non Churn Customers\".format(Education[i]))\n",
    "    plt.legend()\n",
    "    plt.show()"
   ]
  },
  {
   "cell_type": "code",
   "execution_count": null,
   "id": "887492f7-8f3b-4fe9-8aa3-c5b1dcb27fef",
   "metadata": {},
   "outputs": [],
   "source": [
    "Churn['Education_Level_Doctorate'].value_counts()"
   ]
  },
  {
   "cell_type": "code",
   "execution_count": null,
   "id": "0dc67225-ccc8-4166-811d-962a1821f813",
   "metadata": {},
   "outputs": [],
   "source": [
    "Churn['Education_Level_Graduate'].value_counts()"
   ]
  },
  {
   "cell_type": "code",
   "execution_count": null,
   "id": "250087eb-86c2-4662-ac75-a150ff125eb4",
   "metadata": {},
   "outputs": [],
   "source": [
    "Churn['Education_Level_High School'].value_counts()"
   ]
  },
  {
   "cell_type": "code",
   "execution_count": null,
   "id": "cbcfc157-9138-4252-8b41-6ea76332fc58",
   "metadata": {},
   "outputs": [],
   "source": [
    "Churn['Education_Level_Post-Graduate'].value_counts()"
   ]
  },
  {
   "cell_type": "code",
   "execution_count": null,
   "id": "f656176e-fc07-4a10-bafd-aac05d54f164",
   "metadata": {},
   "outputs": [],
   "source": [
    "Churn['Education_Level_Uneducated'].value_counts()"
   ]
  },
  {
   "cell_type": "code",
   "execution_count": null,
   "id": "81d9cca7-2060-4f2f-9d98-167806ca3ca6",
   "metadata": {},
   "outputs": [],
   "source": [
    "# Below are the observation:\n",
    "\n",
    "# Customers churn will be higher for Education_Level_Graduate.\n",
    "\n",
    "#   Marital Status\n",
    "\n",
    "Marital=credit_dataset.loc[:,credit_dataset.columns.str.startswith('Marital')].columns\n",
    "Marital"
   ]
  },
  {
   "cell_type": "code",
   "execution_count": null,
   "id": "6fc78a30-03d4-4092-ad85-2095f377020f",
   "metadata": {},
   "outputs": [],
   "source": [
    "Churn['Marital_Status_Married'].value_counts()"
   ]
  },
  {
   "cell_type": "code",
   "execution_count": null,
   "id": "027f9ce2-1932-4b12-93aa-7ad912d6a41e",
   "metadata": {},
   "outputs": [],
   "source": [
    "Churn['Marital_Status_Married'].count()"
   ]
  },
  {
   "cell_type": "code",
   "execution_count": null,
   "id": "a250da82-54a7-47ad-92fe-ec8c9415f2b0",
   "metadata": {},
   "outputs": [],
   "source": [
    "Churn['Marital_Status_Single'].value_counts()"
   ]
  },
  {
   "cell_type": "code",
   "execution_count": null,
   "id": "b339c64a-607c-42f5-9dec-b3c525d255aa",
   "metadata": {},
   "outputs": [],
   "source": [
    "Churn['Marital_Status_Married'].count()"
   ]
  },
  {
   "cell_type": "code",
   "execution_count": null,
   "id": "4c4802c5-4e84-438a-85f8-1fc6ede2c8fc",
   "metadata": {},
   "outputs": [],
   "source": [
    "plt.figure(figsize = (20,5))\n",
    "for i in range(len(Marital)):\n",
    "    sns.distplot(Churn[Marital[i]], hist = False, label = 'Churn')\n",
    "    sns.distplot(NonChurn[Marital[i]], hist = False, label  = 'NonChurn')\n",
    "    plt.title(\"{} for Customers\".format(Marital[i]))\n",
    "    plt.legend()\n",
    "    plt.show()"
   ]
  },
  {
   "cell_type": "code",
   "execution_count": null,
   "id": "5e789a00-2c47-4737-882b-3682ae799f3c",
   "metadata": {},
   "outputs": [],
   "source": [
    "#  Churn Rate of Married Customers is more than Single Customers.Churn Rate is 51% for Married and for Single its 41%"
   ]
  },
  {
   "cell_type": "code",
   "execution_count": null,
   "id": "55726398-da25-4bf3-a60d-8c22495ce34b",
   "metadata": {},
   "outputs": [],
   "source": [
    "# Income_Category\n",
    "Income_Category=credit_dataset.loc[:,credit_dataset.columns.str.startswith('Income_Category')].columns\n",
    "Income_Category"
   ]
  },
  {
   "cell_type": "code",
   "execution_count": null,
   "id": "859a1301-d429-4d43-b1b1-7853ff721c21",
   "metadata": {},
   "outputs": [],
   "source": [
    "plt.figure(figsize = (20,5))\n",
    "for i in range(len(Income_Category)):\n",
    "    sns.distplot(Churn[Income_Category[i]], hist = False, label = 'Churn')\n",
    "    sns.distplot(NonChurn[Income_Category[i]], hist = False, label  = 'NonChurn')\n",
    "    plt.title(\"{} for Customers\".format(Income_Category[i]))\n",
    "    plt.legend()\n",
    "    plt.show()"
   ]
  },
  {
   "cell_type": "code",
   "execution_count": null,
   "id": "eb477bd5-d46c-4985-820b-611847e42151",
   "metadata": {},
   "outputs": [],
   "source": [
    "Churn['Income_Category_$40K - $60K'].value_counts()"
   ]
  },
  {
   "cell_type": "code",
   "execution_count": null,
   "id": "3b4f728d-2c2a-4ba3-9221-cddbd6fc84e8",
   "metadata": {},
   "outputs": [],
   "source": [
    "Churn['Income_Category_$60K - $80K'].value_counts()"
   ]
  },
  {
   "cell_type": "code",
   "execution_count": null,
   "id": "f2b91541-3dc7-42fd-aee0-f7305a7442ea",
   "metadata": {},
   "outputs": [],
   "source": [
    "Churn['Income_Category_$80K - $120K'].value_counts()"
   ]
  },
  {
   "cell_type": "code",
   "execution_count": null,
   "id": "67e1ade4-e74d-41ef-a72b-a31c78ecf52e",
   "metadata": {},
   "outputs": [],
   "source": [
    "Churn['Income_Category_Less than $40K'].value_counts()"
   ]
  },
  {
   "cell_type": "code",
   "execution_count": null,
   "id": "45dbf2d1-3b9c-4edc-8ba3-e41d04162531",
   "metadata": {},
   "outputs": [],
   "source": [
    "Churn['Income_Category_Less than $40K'].count()"
   ]
  },
  {
   "cell_type": "code",
   "execution_count": null,
   "id": "072d1147-6115-4b93-b44f-c3f594f7861e",
   "metadata": {},
   "outputs": [],
   "source": [
    "#  Thus those with Income Catgory Less than '$40K' has churn rate of 49%\n",
    "\n",
    "#   Card Type\n",
    "\n",
    "\n",
    "Card_Type=credit_dataset.loc[:,credit_dataset.columns.str.startswith('Card_Category')].columns\n",
    "Card_Type"
   ]
  },
  {
   "cell_type": "code",
   "execution_count": null,
   "id": "62e7b976-06f4-4bc4-9097-4df09ff92bb8",
   "metadata": {},
   "outputs": [],
   "source": [
    "#Get Statistical Information of Card Type for Churn Customers\n",
    "\n",
    "for i in range(len(Card_Type)):\n",
    "    print(Churn[Card_Type[i]].describe(),'\\n')"
   ]
  },
  {
   "cell_type": "code",
   "execution_count": null,
   "id": "7181b2fc-7326-4cb0-b829-4be44b5af851",
   "metadata": {},
   "outputs": [],
   "source": [
    "#Get count of Churn Customers\n",
    "\n",
    "for i in range(len(Card_Type)):\n",
    "    print(Churn[Card_Type[i]].value_counts(),'\\n')"
   ]
  },
  {
   "cell_type": "code",
   "execution_count": null,
   "id": "74a0c796-109a-4211-a451-a9b63f2463a4",
   "metadata": {},
   "outputs": [],
   "source": [
    "#Get count of NonChurn Customers\n",
    "\n",
    "for i in range(len(Card_Type)):\n",
    "    print(NonChurn[Card_Type[i]].value_counts(),'\\n')"
   ]
  },
  {
   "cell_type": "code",
   "execution_count": null,
   "id": "6e968b14-0ce6-45c3-ae74-e62caafd637e",
   "metadata": {},
   "outputs": [],
   "source": [
    "plt.figure(figsize = (20,5))\n",
    "for i in range(len(Card_Type)):\n",
    "    sns.distplot(Churn[Card_Type[i]], hist = False, label = 'Churn')\n",
    "    sns.distplot(NonChurn[Card_Type[i]], hist = False, label  = 'NonChurn')\n",
    "    plt.title(\"{} for Customers\".format(Card_Type[i]))\n",
    "    plt.legend()\n",
    "    plt.show()"
   ]
  },
  {
   "cell_type": "code",
   "execution_count": null,
   "id": "b304e1ca-54b7-481f-a792-5a0ade1f10b5",
   "metadata": {},
   "outputs": [],
   "source": [
    "#  Churn Rate for Customers holding Silver Card is 5%.\n",
    "\n",
    "#  Insights obatined after analyzing are as below:\n",
    "Insights obatined after analyzing are as below:\n",
    "1.It seems that women customers tend to churn more and those above 40 years of age look for other credit card service options.\n",
    "\n",
    "2.Usually customers who remain inactive for more than 3 months have a tendency to churn.\n",
    "\n",
    "3.Customers who have atmost 3 dependent usually look for other credi card options as they have high expenses.\n",
    "\n",
    "4.Credit limit for Churn Customers is less than Non Churn Customers\n",
    "\n",
    "5.Revolving balance is less for Churn Customers and is maintained well,there does not seems to be rise and its seems that Churn Customers has constant revolving balance and on average the balance for Churn Customers is half of Non Churn Customers\n",
    "\n",
    "6.Total revolving balance of churn customers is showing a downward trend in comparison to Non Churn Customer\n",
    "\n",
    "7.Significant decline in Avg_Open_To_Buy for Churn Customers\n",
    "\n",
    "8.Expenditure increases for Q4 when compared with Q1 quarter for Churn Customers\n",
    "\n",
    "9.Total Transaction amount of Churn Customers is less than Non Churn Customers as credit limit is low\n",
    "\n",
    "10.Total Transaction count for Churn Customers on an avg is '44' and for Non Churn it '68'.\n",
    "\n",
    "11.Average Utilization ratio for Churn Customers is less than Non Churn Customers\n",
    "\n",
    "12.Customers churn is higher for Education_Level_Graduate.\n",
    "\n",
    "13.Churn Rate of Married Customers is more than Single Customers.Churn Rate is 51% for Married and for Single its 41%\n",
    "\n",
    "14.Income Catgory Less than '$40K' has churn rate of 49%\n",
    "\n",
    "15.Churn Rate for Customers holding Silver Card is 5%."
   ]
  },
  {
   "cell_type": "code",
   "execution_count": null,
   "id": "fade4dce-1639-4573-96e1-094e78b40072",
   "metadata": {},
   "outputs": [],
   "source": []
  },
  {
   "cell_type": "code",
   "execution_count": null,
   "id": "b133e6b1-8427-4a0a-ba5a-de2ab17c8d7c",
   "metadata": {},
   "outputs": [],
   "source": []
  },
  {
   "cell_type": "code",
   "execution_count": null,
   "id": "d4087506-f662-4552-b595-faad371f5281",
   "metadata": {},
   "outputs": [],
   "source": []
  }
 ],
 "metadata": {
  "kernelspec": {
   "display_name": "Python 3 (ipykernel)",
   "language": "python",
   "name": "python3"
  },
  "language_info": {
   "codemirror_mode": {
    "name": "ipython",
    "version": 3
   },
   "file_extension": ".py",
   "mimetype": "text/x-python",
   "name": "python",
   "nbconvert_exporter": "python",
   "pygments_lexer": "ipython3",
   "version": "3.9.7"
  }
 },
 "nbformat": 4,
 "nbformat_minor": 5
}
