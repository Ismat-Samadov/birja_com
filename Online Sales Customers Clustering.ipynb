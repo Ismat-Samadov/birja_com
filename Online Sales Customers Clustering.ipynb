{
 "cells": [
  {
   "cell_type": "code",
   "execution_count": null,
   "id": "77a57a91-d6c9-4648-9781-181bc520c736",
   "metadata": {},
   "outputs": [],
   "source": [
    "import os\n",
    "import numpy as np\n",
    "import pandas as pd\n",
    "import random\n",
    "import plotly.express as px\n",
    "import plotly.graph_objects as go\n",
    "from plotly.subplots import make_subplots\n",
    "import matplotlib.pyplot as plt\n",
    "import seaborn as sns\n",
    "from contextlib import contextmanager\n",
    "from time import time\n",
    "from tqdm import tqdm\n",
    "from tensorflow.keras.utils import to_categorical\n",
    "from sklearn.metrics import classification_report, log_loss, accuracy_score\n",
    "from sklearn.metrics import mean_squared_error\n",
    "from sklearn.model_selection import KFold\n",
    "from sklearn.mixture import GaussianMixture, BayesianGaussianMixture\n",
    "from sklearn.metrics import accuracy_score"
   ]
  },
  {
   "cell_type": "code",
   "execution_count": null,
   "id": "1fd1fe7c-3c74-446c-8a38-3c19c7c5101f",
   "metadata": {},
   "outputs": [],
   "source": [
    "#  Data preparation"
   ]
  },
  {
   "cell_type": "code",
   "execution_count": null,
   "id": "7005f7ab-c0f0-4ec2-a76d-f12e63ae4482",
   "metadata": {},
   "outputs": [],
   "source": [
    "data0=pd.read_csv('../input/online-sales-in-usa/sales.csv')\n",
    "display(data0[0:5].T)\n",
    "print(data0.columns.tolist())"
   ]
  },
  {
   "cell_type": "code",
   "execution_count": null,
   "id": "dda2c668-d1fd-4eee-a177-933e8cbb4792",
   "metadata": {},
   "outputs": [],
   "source": [
    "dataA=data0[['User Name','Gender','age']].drop_duplicates()\n",
    "dataA=dataA.reset_index(drop=True)\n",
    "display(dataA)"
   ]
  },
  {
   "cell_type": "code",
   "execution_count": null,
   "id": "12d691b3-ca7a-4626-888a-5914b297570f",
   "metadata": {},
   "outputs": [],
   "source": [
    "print(data0['category'].unique().tolist())"
   ]
  },
  {
   "cell_type": "code",
   "execution_count": null,
   "id": "1a4c183a-9230-433d-82d0-0ddadbb8c71a",
   "metadata": {},
   "outputs": [],
   "source": [
    "dataC=data0[['User Name','category']]\n",
    "dataC['count']=1\n",
    "dataC2=dataC.groupby(['User Name','category'],as_index=False).sum()\n",
    "display(dataC2)"
   ]
  },
  {
   "cell_type": "code",
   "execution_count": null,
   "id": "2934a1e0-6bff-46b7-99c8-03a9b8fbc7f2",
   "metadata": {},
   "outputs": [],
   "source": [
    "dataD=dataC2.set_index(['User Name','category']).unstack()['count']\n",
    "dataD=dataD.fillna(0)\n",
    "display(dataD)"
   ]
  },
  {
   "cell_type": "code",
   "execution_count": null,
   "id": "cee54bcb-983f-414c-a5a8-197a2b98c088",
   "metadata": {},
   "outputs": [],
   "source": [
    "dataD2=dataD.copy()\n",
    "for i in range(len(dataD)):\n",
    "    dataD2.iloc[i,:]=dataD.iloc[i,:]/dataD.iloc[i,:].sum()\n",
    "display(dataD2)"
   ]
  },
  {
   "cell_type": "code",
   "execution_count": null,
   "id": "a4c57f6c-14c1-4db9-8f9f-90db58c49b14",
   "metadata": {},
   "outputs": [],
   "source": [
    "bgm = BayesianGaussianMixture(\n",
    "    n_components=7,\n",
    "    max_iter=300,\n",
    "    n_init=10,\n",
    "    random_state=2,\n",
    "    verbose_interval=100,\n",
    ")"
   ]
  },
  {
   "cell_type": "code",
   "execution_count": null,
   "id": "1170bc11-aa0e-4de7-9e58-a9afb5713af1",
   "metadata": {},
   "outputs": [],
   "source": [
    "bgm_labels = bgm.fit_predict(dataD2)\n",
    "dataD2['label']=bgm_labels\n",
    "display(dataD2)\n",
    "display(dataD2['label'].value_counts())"
   ]
  },
  {
   "cell_type": "code",
   "execution_count": null,
   "id": "501304dc-6458-4184-82ca-fe29e6651e36",
   "metadata": {},
   "outputs": [],
   "source": [
    "dataD3=dataD2.groupby('label').mean()\n",
    "display(dataD3)"
   ]
  },
  {
   "cell_type": "code",
   "execution_count": null,
   "id": "a473c2f8-4d2d-4beb-ac86-fa38b71058d3",
   "metadata": {},
   "outputs": [],
   "source": [
    "fig=make_subplots(specs=[[{\"secondary_y\":False}]])\n",
    "for i in range(7):\n",
    "    fig.add_trace(go.Scatter(x=dataD3.columns.tolist(),y=dataD3.iloc[i],name='label='+str(i)),secondary_y=False,)\n",
    "\n",
    "fig.update_layout(autosize=False,width=900,height=500,title_text=\"Online Sales Customers Clustering\")\n",
    "fig.update_xaxes(title_text=\"Category\")\n",
    "fig.update_yaxes(title_text=\"Order Ratio\",secondary_y=False)\n",
    "fig.show()"
   ]
  },
  {
   "cell_type": "code",
   "execution_count": null,
   "id": "9f2a5a0e-e20b-485f-a527-20005547f0de",
   "metadata": {},
   "outputs": [],
   "source": []
  }
 ],
 "metadata": {
  "kernelspec": {
   "display_name": "Python 3 (ipykernel)",
   "language": "python",
   "name": "python3"
  },
  "language_info": {
   "codemirror_mode": {
    "name": "ipython",
    "version": 3
   },
   "file_extension": ".py",
   "mimetype": "text/x-python",
   "name": "python",
   "nbconvert_exporter": "python",
   "pygments_lexer": "ipython3",
   "version": "3.9.7"
  }
 },
 "nbformat": 4,
 "nbformat_minor": 5
}
